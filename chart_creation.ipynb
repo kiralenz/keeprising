{
 "cells": [
  {
   "cell_type": "code",
   "execution_count": 99,
   "id": "40e8bfd9-3561-48ee-bdb7-b4bab1f28c08",
   "metadata": {},
   "outputs": [],
   "source": [
    "import pandas as pd\n",
    "import seaborn as sns\n",
    "import numpy as np"
   ]
  },
  {
   "cell_type": "code",
   "execution_count": 100,
   "id": "1f9e6715-5753-42cd-bb6e-434376f402e1",
   "metadata": {},
   "outputs": [],
   "source": [
    "TODAY = pd.Timestamp.today().strftime('%Y-%m-%d')"
   ]
  },
  {
   "cell_type": "markdown",
   "id": "f01384dd-5767-4a3b-85e6-7b04f35c5ddb",
   "metadata": {},
   "source": [
    "# Data creation"
   ]
  },
  {
   "cell_type": "markdown",
   "id": "067c79f3-7ea5-4b09-a395-f7db29635978",
   "metadata": {},
   "source": [
    "**TODO**\n",
    "* create a new df for each feeding day and use a concat"
   ]
  },
  {
   "cell_type": "markdown",
   "id": "9449b3a2-2d85-4cea-889c-e16fe5f94c2e",
   "metadata": {},
   "source": [
    "## Sourdough feeding data"
   ]
  },
  {
   "cell_type": "markdown",
   "id": "114b5222-36e7-483f-b439-86a714eaed0c",
   "metadata": {
    "tags": []
   },
   "source": [
    "### Feeding dates"
   ]
  },
  {
   "cell_type": "code",
   "execution_count": 101,
   "id": "36869f5e-24a6-4f6a-89fc-84c9b8b869ba",
   "metadata": {},
   "outputs": [],
   "source": [
    "# creating a more or less true history\n",
    "past_feeding_dates = pd.date_range(start='2022-07-24', end='2022-12-11', freq='7D')"
   ]
  },
  {
   "cell_type": "code",
   "execution_count": 102,
   "id": "8f9a5157-6dd9-4fb3-9616-22ee7cb8defc",
   "metadata": {},
   "outputs": [],
   "source": [
    "feeding_dates = []"
   ]
  },
  {
   "cell_type": "code",
   "execution_count": 103,
   "id": "b7ae91f4-7875-4c18-885d-c69796866ae2",
   "metadata": {},
   "outputs": [],
   "source": [
    "for i in past_feeding_dates:\n",
    "  feeding_dates.append(i.strftime('%Y-%m-%d'))"
   ]
  },
  {
   "cell_type": "code",
   "execution_count": 104,
   "id": "58719e47-cf40-4ac3-b9df-9c52057dfa49",
   "metadata": {},
   "outputs": [],
   "source": [
    "feeding_dates.append(TODAY)"
   ]
  },
  {
   "cell_type": "markdown",
   "id": "f885713f-c439-48f7-8949-fff78cae822c",
   "metadata": {},
   "source": [
    "### Temperature"
   ]
  },
  {
   "cell_type": "code",
   "execution_count": 105,
   "id": "8d7946ef-839f-460c-bcb7-4be7d735fcc8",
   "metadata": {},
   "outputs": [],
   "source": [
    "temperature = [22, 22, 22, 22, 23, 21, 21, 21, 20, 20, 20, 20, 19, 19, 20, 19, 18, 18, 19, 19, 18]"
   ]
  },
  {
   "cell_type": "code",
   "execution_count": 106,
   "id": "4df9d77f-c8bf-4859-8710-10daf7f01fba",
   "metadata": {},
   "outputs": [],
   "source": [
    "temperature_today = 19"
   ]
  },
  {
   "cell_type": "code",
   "execution_count": 107,
   "id": "6d253ba4-6d32-424f-80c1-c2949f0534a0",
   "metadata": {},
   "outputs": [],
   "source": [
    "temperature.append(temperature_today)"
   ]
  },
  {
   "cell_type": "markdown",
   "id": "79c0366d-9760-4156-9a83-0286a76766fd",
   "metadata": {},
   "source": [
    "### Time"
   ]
  },
  {
   "cell_type": "code",
   "execution_count": 108,
   "id": "0a8c161e-80ed-4256-bd40-29af5990f202",
   "metadata": {},
   "outputs": [],
   "source": [
    "feeding_time = [8, 7,8,8,9,9,9,8,8,9,12,9,10,8,8,9,9,10,9,10,10]"
   ]
  },
  {
   "cell_type": "code",
   "execution_count": 109,
   "id": "5d959b2f-c8a1-429d-afdc-7808ee61d293",
   "metadata": {},
   "outputs": [],
   "source": [
    "feeding_time_today = 10"
   ]
  },
  {
   "cell_type": "code",
   "execution_count": 110,
   "id": "1c1fafa1-d6ec-4598-991d-4cb35fb89857",
   "metadata": {},
   "outputs": [],
   "source": [
    "feeding_time.append(feeding_time_today)"
   ]
  },
  {
   "cell_type": "markdown",
   "id": "7e4c009d-1a87-460e-93a4-b749a7338819",
   "metadata": {},
   "source": [
    "### Growth"
   ]
  },
  {
   "cell_type": "code",
   "execution_count": 111,
   "id": "aeac8a53-2968-4ce2-b5b8-a7e6163029af",
   "metadata": {},
   "outputs": [],
   "source": [
    "initial_height = [2.2, 2.4, 2.7, 2.1, 2.8, 2.6, 2.9, 2.4, 2.1, 2.2,\n",
    "                  2.4, 2.2, 2.9, 2.5, 2.6, 2.9, 2.4, 2.7, 2.0, 2.7, 2.6]"
   ]
  },
  {
   "cell_type": "code",
   "execution_count": 112,
   "id": "20cd09e3-f46d-4b27-955e-a3835591a2e6",
   "metadata": {},
   "outputs": [],
   "source": [
    "end_height = [7.2, 7.8, 7.9, 6.3, 6.1, 7.5, 6.6, 6.6, 6.1, 7.1,\n",
    "              7.8, 6.6, 7.3, 7.9, 7.5, 6.5, 6.9, 6.1, 6.2, 7.0, 6.6]"
   ]
  },
  {
   "cell_type": "code",
   "execution_count": 113,
   "id": "f216c4df-1af8-4d88-8d4a-1ecbd8924900",
   "metadata": {},
   "outputs": [],
   "source": [
    "initial_height_today = 2.9"
   ]
  },
  {
   "cell_type": "code",
   "execution_count": 114,
   "id": "fd77d496-03fb-42b2-af70-6bd7668c08f6",
   "metadata": {},
   "outputs": [],
   "source": [
    "end_height_today = 7.9"
   ]
  },
  {
   "cell_type": "code",
   "execution_count": 115,
   "id": "92bdcb0a-59ad-4bee-9d66-642d17c74cba",
   "metadata": {},
   "outputs": [],
   "source": [
    "initial_height.append(initial_height_today)"
   ]
  },
  {
   "cell_type": "code",
   "execution_count": 116,
   "id": "b0c9659b-e619-466c-9521-1cf0b9937786",
   "metadata": {},
   "outputs": [],
   "source": [
    "end_height.append(end_height_today)"
   ]
  },
  {
   "cell_type": "code",
   "execution_count": null,
   "id": "30f5d7e5-dad4-448c-ba65-c3eab7a0a9d9",
   "metadata": {},
   "outputs": [],
   "source": []
  },
  {
   "cell_type": "markdown",
   "id": "362dac44-947e-4598-a4fd-f68cf6146467",
   "metadata": {},
   "source": [
    "### Bubbles"
   ]
  },
  {
   "cell_type": "code",
   "execution_count": 117,
   "id": "5b9033cc-5eec-4184-a53f-30bfd1c6d107",
   "metadata": {},
   "outputs": [],
   "source": [
    "bubble_size = [0.2, 0.4, 0.3, 0.2, 0.1, 0.1, 0.4, 0.1, 0.3, 0.2, 0.4, 0.2, 0.1,\n",
    "        0.3, 0.4, 0.2, 0.1, 0.1, 0.4, 0.4, 0.2]"
   ]
  },
  {
   "cell_type": "code",
   "execution_count": 118,
   "id": "f5ad5577-567a-4ca4-97c6-0ff9e927a501",
   "metadata": {},
   "outputs": [],
   "source": [
    "bubble_size_today = 0.3"
   ]
  },
  {
   "cell_type": "code",
   "execution_count": 119,
   "id": "7c22744a-a255-419c-af49-e5309d230b70",
   "metadata": {},
   "outputs": [],
   "source": [
    "bubble_size.append(bubble_size_today)"
   ]
  },
  {
   "cell_type": "code",
   "execution_count": null,
   "id": "50f28857-e96b-4e0e-8aa2-5488e556fa8c",
   "metadata": {},
   "outputs": [],
   "source": []
  },
  {
   "cell_type": "markdown",
   "id": "57c17866-5a8f-4e3c-9895-85ffbc3b8158",
   "metadata": {
    "tags": []
   },
   "source": [
    "### df"
   ]
  },
  {
   "cell_type": "code",
   "execution_count": 120,
   "id": "fb137f84-ffb8-48e3-a8a6-b6b6ea612004",
   "metadata": {},
   "outputs": [],
   "source": [
    "feedings_dict = {\n",
    "    'feeding_date':feeding_dates, \n",
    "    'temperature':temperature,\n",
    "    'feeding_time':feeding_time,\n",
    "    'initial_height':initial_height,\n",
    "    'end_height':end_height,\n",
    "    'bubble_size':bubble_size\n",
    "}"
   ]
  },
  {
   "cell_type": "code",
   "execution_count": 121,
   "id": "4a2e54c9-0f9a-4b3d-96d7-457f872a3216",
   "metadata": {},
   "outputs": [],
   "source": [
    "feedings = pd.DataFrame(data=feedings_dict)"
   ]
  },
  {
   "cell_type": "code",
   "execution_count": 122,
   "id": "18452b4d-6a17-4e01-90bc-db11d019adb0",
   "metadata": {},
   "outputs": [
    {
     "data": {
      "text/html": [
       "<div>\n",
       "<style scoped>\n",
       "    .dataframe tbody tr th:only-of-type {\n",
       "        vertical-align: middle;\n",
       "    }\n",
       "\n",
       "    .dataframe tbody tr th {\n",
       "        vertical-align: top;\n",
       "    }\n",
       "\n",
       "    .dataframe thead th {\n",
       "        text-align: right;\n",
       "    }\n",
       "</style>\n",
       "<table border=\"1\" class=\"dataframe\">\n",
       "  <thead>\n",
       "    <tr style=\"text-align: right;\">\n",
       "      <th></th>\n",
       "      <th>feeding_date</th>\n",
       "      <th>temperature</th>\n",
       "      <th>feeding_time</th>\n",
       "      <th>initial_height</th>\n",
       "      <th>end_height</th>\n",
       "      <th>bubble_size</th>\n",
       "    </tr>\n",
       "  </thead>\n",
       "  <tbody>\n",
       "    <tr>\n",
       "      <th>0</th>\n",
       "      <td>2022-07-24</td>\n",
       "      <td>22</td>\n",
       "      <td>8</td>\n",
       "      <td>2.2</td>\n",
       "      <td>7.2</td>\n",
       "      <td>0.2</td>\n",
       "    </tr>\n",
       "    <tr>\n",
       "      <th>1</th>\n",
       "      <td>2022-07-31</td>\n",
       "      <td>22</td>\n",
       "      <td>7</td>\n",
       "      <td>2.4</td>\n",
       "      <td>7.8</td>\n",
       "      <td>0.4</td>\n",
       "    </tr>\n",
       "    <tr>\n",
       "      <th>2</th>\n",
       "      <td>2022-08-07</td>\n",
       "      <td>22</td>\n",
       "      <td>8</td>\n",
       "      <td>2.7</td>\n",
       "      <td>7.9</td>\n",
       "      <td>0.3</td>\n",
       "    </tr>\n",
       "    <tr>\n",
       "      <th>3</th>\n",
       "      <td>2022-08-14</td>\n",
       "      <td>22</td>\n",
       "      <td>8</td>\n",
       "      <td>2.1</td>\n",
       "      <td>6.3</td>\n",
       "      <td>0.2</td>\n",
       "    </tr>\n",
       "    <tr>\n",
       "      <th>4</th>\n",
       "      <td>2022-08-21</td>\n",
       "      <td>23</td>\n",
       "      <td>9</td>\n",
       "      <td>2.8</td>\n",
       "      <td>6.1</td>\n",
       "      <td>0.1</td>\n",
       "    </tr>\n",
       "  </tbody>\n",
       "</table>\n",
       "</div>"
      ],
      "text/plain": [
       "  feeding_date  temperature  feeding_time  initial_height  end_height  \\\n",
       "0   2022-07-24           22             8             2.2         7.2   \n",
       "1   2022-07-31           22             7             2.4         7.8   \n",
       "2   2022-08-07           22             8             2.7         7.9   \n",
       "3   2022-08-14           22             8             2.1         6.3   \n",
       "4   2022-08-21           23             9             2.8         6.1   \n",
       "\n",
       "   bubble_size  \n",
       "0          0.2  \n",
       "1          0.4  \n",
       "2          0.3  \n",
       "3          0.2  \n",
       "4          0.1  "
      ]
     },
     "execution_count": 122,
     "metadata": {},
     "output_type": "execute_result"
    }
   ],
   "source": [
    "feedings.head()"
   ]
  },
  {
   "cell_type": "code",
   "execution_count": null,
   "id": "c36116fa-4b00-48e7-804a-085a156407c7",
   "metadata": {},
   "outputs": [],
   "source": []
  },
  {
   "cell_type": "markdown",
   "id": "d6409d67-44bb-48b9-88b3-309d2c5c0863",
   "metadata": {},
   "source": [
    "## Utilization"
   ]
  },
  {
   "cell_type": "markdown",
   "id": "ad5e8399-2912-49cc-9b44-20ce06170642",
   "metadata": {},
   "source": [
    "### Baked breads"
   ]
  },
  {
   "cell_type": "code",
   "execution_count": 123,
   "id": "78b0f2ab-2f10-4fe7-aa8c-4bf34b318026",
   "metadata": {},
   "outputs": [],
   "source": [
    "bread_name = ['Dinkelsonni', 'Italienisches Landbrot', 'Hausbrot', 'Neptune']"
   ]
  },
  {
   "cell_type": "code",
   "execution_count": 124,
   "id": "dba0c487-c589-4684-8357-fd921db1475d",
   "metadata": {},
   "outputs": [],
   "source": [
    "baking_date = ['2022-08-13', '2022-09-18', '2022-10-23', '2022-11-01']"
   ]
  },
  {
   "cell_type": "code",
   "execution_count": 125,
   "id": "9409f40c-f738-412d-b933-7edd8de6e6f6",
   "metadata": {},
   "outputs": [],
   "source": [
    "bread_rating = [4, 5, 4, 5]"
   ]
  },
  {
   "cell_type": "code",
   "execution_count": 126,
   "id": "b037570d-ca8f-474f-a4fa-b78295d98356",
   "metadata": {},
   "outputs": [],
   "source": [
    "used_starter = [10, 20, 15, 10]"
   ]
  },
  {
   "cell_type": "code",
   "execution_count": 127,
   "id": "12f90fe4-3986-4301-a3e5-68208dbc0021",
   "metadata": {},
   "outputs": [],
   "source": [
    "latest_bread = 'Paderborner Landbrot'"
   ]
  },
  {
   "cell_type": "code",
   "execution_count": 128,
   "id": "68cc5d9c-a611-4ff4-9606-8400040a7bff",
   "metadata": {},
   "outputs": [],
   "source": [
    "latest_baking_date = '2022-12-14'"
   ]
  },
  {
   "cell_type": "code",
   "execution_count": 129,
   "id": "d76910df-7b6a-4560-ae0e-f6fa5004a421",
   "metadata": {},
   "outputs": [],
   "source": [
    "latest_ranking = 3"
   ]
  },
  {
   "cell_type": "code",
   "execution_count": 130,
   "id": "1dc93e41-9645-4318-b211-fc1ed86ed9cf",
   "metadata": {},
   "outputs": [],
   "source": [
    "latest_starter_used = 30"
   ]
  },
  {
   "cell_type": "code",
   "execution_count": 131,
   "id": "e8992604-1c18-4eff-81f2-3dd22c5ef2e1",
   "metadata": {},
   "outputs": [],
   "source": [
    "bread_name.append(latest_bread)"
   ]
  },
  {
   "cell_type": "code",
   "execution_count": 132,
   "id": "d76e5153-9974-45cf-9310-6e30c4e544c4",
   "metadata": {},
   "outputs": [],
   "source": [
    "baking_date.append(latest_baking_date)"
   ]
  },
  {
   "cell_type": "code",
   "execution_count": 133,
   "id": "782e61ed-9af7-46a8-a2d3-3f3ccb6fb295",
   "metadata": {},
   "outputs": [],
   "source": [
    "bread_rating.append(latest_ranking)"
   ]
  },
  {
   "cell_type": "code",
   "execution_count": 134,
   "id": "8aafd062-e406-4cbb-93e5-b68217cefbd4",
   "metadata": {},
   "outputs": [],
   "source": [
    "used_starter.append(latest_starter_used)"
   ]
  },
  {
   "cell_type": "code",
   "execution_count": 135,
   "id": "10c5b0f8-6df6-4465-91d4-f1e00ec17157",
   "metadata": {},
   "outputs": [],
   "source": [
    "baked_bread_dict = {\n",
    "    'bread_name':bread_name,\n",
    "    'baking_date':baking_date,\n",
    "    'bread_rating':bread_rating,\n",
    "    'used_starter':used_starter\n",
    "}"
   ]
  },
  {
   "cell_type": "code",
   "execution_count": 136,
   "id": "1f560efd-f27c-4f11-a5d1-6f68545eeeaf",
   "metadata": {},
   "outputs": [],
   "source": [
    "baked_bread = pd.DataFrame(data=baked_bread_dict)"
   ]
  },
  {
   "cell_type": "code",
   "execution_count": 137,
   "id": "e02be435-baeb-4267-8235-81ca96f224de",
   "metadata": {},
   "outputs": [],
   "source": [
    "baked_bread['baking_date'] = pd.to_datetime(baked_bread['baking_date'])"
   ]
  },
  {
   "cell_type": "code",
   "execution_count": 138,
   "id": "c32182f3-dc7f-4fcb-bfd3-83fe4732296c",
   "metadata": {},
   "outputs": [
    {
     "data": {
      "text/html": [
       "<div>\n",
       "<style scoped>\n",
       "    .dataframe tbody tr th:only-of-type {\n",
       "        vertical-align: middle;\n",
       "    }\n",
       "\n",
       "    .dataframe tbody tr th {\n",
       "        vertical-align: top;\n",
       "    }\n",
       "\n",
       "    .dataframe thead th {\n",
       "        text-align: right;\n",
       "    }\n",
       "</style>\n",
       "<table border=\"1\" class=\"dataframe\">\n",
       "  <thead>\n",
       "    <tr style=\"text-align: right;\">\n",
       "      <th></th>\n",
       "      <th>bread_name</th>\n",
       "      <th>baking_date</th>\n",
       "      <th>bread_rating</th>\n",
       "      <th>used_starter</th>\n",
       "    </tr>\n",
       "  </thead>\n",
       "  <tbody>\n",
       "    <tr>\n",
       "      <th>0</th>\n",
       "      <td>Dinkelsonni</td>\n",
       "      <td>2022-08-13</td>\n",
       "      <td>4</td>\n",
       "      <td>10</td>\n",
       "    </tr>\n",
       "    <tr>\n",
       "      <th>1</th>\n",
       "      <td>Italienisches Landbrot</td>\n",
       "      <td>2022-09-18</td>\n",
       "      <td>5</td>\n",
       "      <td>20</td>\n",
       "    </tr>\n",
       "    <tr>\n",
       "      <th>2</th>\n",
       "      <td>Hausbrot</td>\n",
       "      <td>2022-10-23</td>\n",
       "      <td>4</td>\n",
       "      <td>15</td>\n",
       "    </tr>\n",
       "    <tr>\n",
       "      <th>3</th>\n",
       "      <td>Neptune</td>\n",
       "      <td>2022-11-01</td>\n",
       "      <td>5</td>\n",
       "      <td>10</td>\n",
       "    </tr>\n",
       "    <tr>\n",
       "      <th>4</th>\n",
       "      <td>Paderborner Landbrot</td>\n",
       "      <td>2022-12-14</td>\n",
       "      <td>3</td>\n",
       "      <td>30</td>\n",
       "    </tr>\n",
       "  </tbody>\n",
       "</table>\n",
       "</div>"
      ],
      "text/plain": [
       "               bread_name baking_date  bread_rating  used_starter\n",
       "0             Dinkelsonni  2022-08-13             4            10\n",
       "1  Italienisches Landbrot  2022-09-18             5            20\n",
       "2                Hausbrot  2022-10-23             4            15\n",
       "3                 Neptune  2022-11-01             5            10\n",
       "4    Paderborner Landbrot  2022-12-14             3            30"
      ]
     },
     "execution_count": 138,
     "metadata": {},
     "output_type": "execute_result"
    }
   ],
   "source": [
    "baked_bread"
   ]
  },
  {
   "cell_type": "markdown",
   "id": "4ba09aea-1d2f-4d4b-80ac-0f1d486feded",
   "metadata": {},
   "source": [
    "### Utilized sourdough starter"
   ]
  },
  {
   "cell_type": "code",
   "execution_count": 148,
   "id": "ddba11d4-8662-49a1-8062-438770af68ee",
   "metadata": {},
   "outputs": [],
   "source": [
    "leftover = baked_bread[['baking_date', 'used_starter']]"
   ]
  },
  {
   "cell_type": "code",
   "execution_count": 154,
   "id": "5f3d5a57-5f5d-417e-9068-7f76d4f9d386",
   "metadata": {},
   "outputs": [
    {
     "data": {
      "text/html": [
       "<div>\n",
       "<style scoped>\n",
       "    .dataframe tbody tr th:only-of-type {\n",
       "        vertical-align: middle;\n",
       "    }\n",
       "\n",
       "    .dataframe tbody tr th {\n",
       "        vertical-align: top;\n",
       "    }\n",
       "\n",
       "    .dataframe thead th {\n",
       "        text-align: right;\n",
       "    }\n",
       "</style>\n",
       "<table border=\"1\" class=\"dataframe\">\n",
       "  <thead>\n",
       "    <tr style=\"text-align: right;\">\n",
       "      <th></th>\n",
       "      <th>date</th>\n",
       "      <th>rest_starter</th>\n",
       "    </tr>\n",
       "  </thead>\n",
       "  <tbody>\n",
       "    <tr>\n",
       "      <th>0</th>\n",
       "      <td>2022-08-13</td>\n",
       "      <td>10</td>\n",
       "    </tr>\n",
       "    <tr>\n",
       "      <th>1</th>\n",
       "      <td>2022-09-18</td>\n",
       "      <td>20</td>\n",
       "    </tr>\n",
       "    <tr>\n",
       "      <th>2</th>\n",
       "      <td>2022-10-23</td>\n",
       "      <td>15</td>\n",
       "    </tr>\n",
       "    <tr>\n",
       "      <th>3</th>\n",
       "      <td>2022-11-01</td>\n",
       "      <td>10</td>\n",
       "    </tr>\n",
       "    <tr>\n",
       "      <th>4</th>\n",
       "      <td>2022-12-14</td>\n",
       "      <td>30</td>\n",
       "    </tr>\n",
       "  </tbody>\n",
       "</table>\n",
       "</div>"
      ],
      "text/plain": [
       "        date  rest_starter\n",
       "0 2022-08-13            10\n",
       "1 2022-09-18            20\n",
       "2 2022-10-23            15\n",
       "3 2022-11-01            10\n",
       "4 2022-12-14            30"
      ]
     },
     "execution_count": 154,
     "metadata": {},
     "output_type": "execute_result"
    }
   ],
   "source": [
    "leftover"
   ]
  },
  {
   "cell_type": "code",
   "execution_count": 155,
   "id": "4d78d5ca-3728-4d12-acd9-eeedad3a3089",
   "metadata": {},
   "outputs": [
    {
     "name": "stderr",
     "output_type": "stream",
     "text": [
      "/var/folders/mm/p2dqwhz10d1dvvs017_jlpb80000gn/T/ipykernel_830/3308530444.py:1: SettingWithCopyWarning: \n",
      "A value is trying to be set on a copy of a slice from a DataFrame\n",
      "\n",
      "See the caveats in the documentation: https://pandas.pydata.org/pandas-docs/stable/user_guide/indexing.html#returning-a-view-versus-a-copy\n",
      "  leftover.rename(columns={\n"
     ]
    }
   ],
   "source": [
    "leftover.rename(columns={\n",
    "    'baking_date':'date',\n",
    "    'used_starter':'rest_starter'\n",
    "}, inplace=True)"
   ]
  },
  {
   "cell_type": "code",
   "execution_count": 156,
   "id": "8bb2aeb3-b9cd-4f9f-9d9a-74f71290fbf3",
   "metadata": {},
   "outputs": [
    {
     "name": "stderr",
     "output_type": "stream",
     "text": [
      "/var/folders/mm/p2dqwhz10d1dvvs017_jlpb80000gn/T/ipykernel_830/3003274660.py:1: SettingWithCopyWarning: \n",
      "A value is trying to be set on a copy of a slice from a DataFrame.\n",
      "Try using .loc[row_indexer,col_indexer] = value instead\n",
      "\n",
      "See the caveats in the documentation: https://pandas.pydata.org/pandas-docs/stable/user_guide/indexing.html#returning-a-view-versus-a-copy\n",
      "  leftover['rest_starter'] = leftover['rest_starter']*(-1)\n"
     ]
    }
   ],
   "source": [
    "leftover['rest_starter'] = leftover['rest_starter']*(-1)"
   ]
  },
  {
   "cell_type": "code",
   "execution_count": null,
   "id": "b1ae2c4c-4a9f-46ed-829a-f70c9686a68e",
   "metadata": {},
   "outputs": [],
   "source": []
  },
  {
   "cell_type": "code",
   "execution_count": 139,
   "id": "aa5be15c-20e9-4445-8d7a-edcce0bd7f50",
   "metadata": {},
   "outputs": [
    {
     "data": {
      "text/html": [
       "<div>\n",
       "<style scoped>\n",
       "    .dataframe tbody tr th:only-of-type {\n",
       "        vertical-align: middle;\n",
       "    }\n",
       "\n",
       "    .dataframe tbody tr th {\n",
       "        vertical-align: top;\n",
       "    }\n",
       "\n",
       "    .dataframe thead th {\n",
       "        text-align: right;\n",
       "    }\n",
       "</style>\n",
       "<table border=\"1\" class=\"dataframe\">\n",
       "  <thead>\n",
       "    <tr style=\"text-align: right;\">\n",
       "      <th></th>\n",
       "      <th>feeding_date</th>\n",
       "      <th>temperature</th>\n",
       "      <th>feeding_time</th>\n",
       "      <th>initial_height</th>\n",
       "      <th>end_height</th>\n",
       "      <th>bubble_size</th>\n",
       "    </tr>\n",
       "  </thead>\n",
       "  <tbody>\n",
       "    <tr>\n",
       "      <th>0</th>\n",
       "      <td>2022-07-24</td>\n",
       "      <td>22</td>\n",
       "      <td>8</td>\n",
       "      <td>2.2</td>\n",
       "      <td>7.2</td>\n",
       "      <td>0.2</td>\n",
       "    </tr>\n",
       "    <tr>\n",
       "      <th>1</th>\n",
       "      <td>2022-07-31</td>\n",
       "      <td>22</td>\n",
       "      <td>7</td>\n",
       "      <td>2.4</td>\n",
       "      <td>7.8</td>\n",
       "      <td>0.4</td>\n",
       "    </tr>\n",
       "    <tr>\n",
       "      <th>2</th>\n",
       "      <td>2022-08-07</td>\n",
       "      <td>22</td>\n",
       "      <td>8</td>\n",
       "      <td>2.7</td>\n",
       "      <td>7.9</td>\n",
       "      <td>0.3</td>\n",
       "    </tr>\n",
       "    <tr>\n",
       "      <th>3</th>\n",
       "      <td>2022-08-14</td>\n",
       "      <td>22</td>\n",
       "      <td>8</td>\n",
       "      <td>2.1</td>\n",
       "      <td>6.3</td>\n",
       "      <td>0.2</td>\n",
       "    </tr>\n",
       "    <tr>\n",
       "      <th>4</th>\n",
       "      <td>2022-08-21</td>\n",
       "      <td>23</td>\n",
       "      <td>9</td>\n",
       "      <td>2.8</td>\n",
       "      <td>6.1</td>\n",
       "      <td>0.1</td>\n",
       "    </tr>\n",
       "    <tr>\n",
       "      <th>5</th>\n",
       "      <td>2022-08-28</td>\n",
       "      <td>21</td>\n",
       "      <td>9</td>\n",
       "      <td>2.6</td>\n",
       "      <td>7.5</td>\n",
       "      <td>0.1</td>\n",
       "    </tr>\n",
       "    <tr>\n",
       "      <th>6</th>\n",
       "      <td>2022-09-04</td>\n",
       "      <td>21</td>\n",
       "      <td>9</td>\n",
       "      <td>2.9</td>\n",
       "      <td>6.6</td>\n",
       "      <td>0.4</td>\n",
       "    </tr>\n",
       "    <tr>\n",
       "      <th>7</th>\n",
       "      <td>2022-09-11</td>\n",
       "      <td>21</td>\n",
       "      <td>8</td>\n",
       "      <td>2.4</td>\n",
       "      <td>6.6</td>\n",
       "      <td>0.1</td>\n",
       "    </tr>\n",
       "    <tr>\n",
       "      <th>8</th>\n",
       "      <td>2022-09-18</td>\n",
       "      <td>20</td>\n",
       "      <td>8</td>\n",
       "      <td>2.1</td>\n",
       "      <td>6.1</td>\n",
       "      <td>0.3</td>\n",
       "    </tr>\n",
       "    <tr>\n",
       "      <th>9</th>\n",
       "      <td>2022-09-25</td>\n",
       "      <td>20</td>\n",
       "      <td>9</td>\n",
       "      <td>2.2</td>\n",
       "      <td>7.1</td>\n",
       "      <td>0.2</td>\n",
       "    </tr>\n",
       "    <tr>\n",
       "      <th>10</th>\n",
       "      <td>2022-10-02</td>\n",
       "      <td>20</td>\n",
       "      <td>12</td>\n",
       "      <td>2.4</td>\n",
       "      <td>7.8</td>\n",
       "      <td>0.4</td>\n",
       "    </tr>\n",
       "    <tr>\n",
       "      <th>11</th>\n",
       "      <td>2022-10-09</td>\n",
       "      <td>20</td>\n",
       "      <td>9</td>\n",
       "      <td>2.2</td>\n",
       "      <td>6.6</td>\n",
       "      <td>0.2</td>\n",
       "    </tr>\n",
       "    <tr>\n",
       "      <th>12</th>\n",
       "      <td>2022-10-16</td>\n",
       "      <td>19</td>\n",
       "      <td>10</td>\n",
       "      <td>2.9</td>\n",
       "      <td>7.3</td>\n",
       "      <td>0.1</td>\n",
       "    </tr>\n",
       "    <tr>\n",
       "      <th>13</th>\n",
       "      <td>2022-10-23</td>\n",
       "      <td>19</td>\n",
       "      <td>8</td>\n",
       "      <td>2.5</td>\n",
       "      <td>7.9</td>\n",
       "      <td>0.3</td>\n",
       "    </tr>\n",
       "    <tr>\n",
       "      <th>14</th>\n",
       "      <td>2022-10-30</td>\n",
       "      <td>20</td>\n",
       "      <td>8</td>\n",
       "      <td>2.6</td>\n",
       "      <td>7.5</td>\n",
       "      <td>0.4</td>\n",
       "    </tr>\n",
       "    <tr>\n",
       "      <th>15</th>\n",
       "      <td>2022-11-06</td>\n",
       "      <td>19</td>\n",
       "      <td>9</td>\n",
       "      <td>2.9</td>\n",
       "      <td>6.5</td>\n",
       "      <td>0.2</td>\n",
       "    </tr>\n",
       "    <tr>\n",
       "      <th>16</th>\n",
       "      <td>2022-11-13</td>\n",
       "      <td>18</td>\n",
       "      <td>9</td>\n",
       "      <td>2.4</td>\n",
       "      <td>6.9</td>\n",
       "      <td>0.1</td>\n",
       "    </tr>\n",
       "    <tr>\n",
       "      <th>17</th>\n",
       "      <td>2022-11-20</td>\n",
       "      <td>18</td>\n",
       "      <td>10</td>\n",
       "      <td>2.7</td>\n",
       "      <td>6.1</td>\n",
       "      <td>0.1</td>\n",
       "    </tr>\n",
       "    <tr>\n",
       "      <th>18</th>\n",
       "      <td>2022-11-27</td>\n",
       "      <td>19</td>\n",
       "      <td>9</td>\n",
       "      <td>2.0</td>\n",
       "      <td>6.2</td>\n",
       "      <td>0.4</td>\n",
       "    </tr>\n",
       "    <tr>\n",
       "      <th>19</th>\n",
       "      <td>2022-12-04</td>\n",
       "      <td>19</td>\n",
       "      <td>10</td>\n",
       "      <td>2.7</td>\n",
       "      <td>7.0</td>\n",
       "      <td>0.4</td>\n",
       "    </tr>\n",
       "    <tr>\n",
       "      <th>20</th>\n",
       "      <td>2022-12-11</td>\n",
       "      <td>18</td>\n",
       "      <td>10</td>\n",
       "      <td>2.6</td>\n",
       "      <td>6.6</td>\n",
       "      <td>0.2</td>\n",
       "    </tr>\n",
       "    <tr>\n",
       "      <th>21</th>\n",
       "      <td>2022-12-19</td>\n",
       "      <td>19</td>\n",
       "      <td>10</td>\n",
       "      <td>2.9</td>\n",
       "      <td>7.9</td>\n",
       "      <td>0.3</td>\n",
       "    </tr>\n",
       "  </tbody>\n",
       "</table>\n",
       "</div>"
      ],
      "text/plain": [
       "   feeding_date  temperature  feeding_time  initial_height  end_height  \\\n",
       "0    2022-07-24           22             8             2.2         7.2   \n",
       "1    2022-07-31           22             7             2.4         7.8   \n",
       "2    2022-08-07           22             8             2.7         7.9   \n",
       "3    2022-08-14           22             8             2.1         6.3   \n",
       "4    2022-08-21           23             9             2.8         6.1   \n",
       "5    2022-08-28           21             9             2.6         7.5   \n",
       "6    2022-09-04           21             9             2.9         6.6   \n",
       "7    2022-09-11           21             8             2.4         6.6   \n",
       "8    2022-09-18           20             8             2.1         6.1   \n",
       "9    2022-09-25           20             9             2.2         7.1   \n",
       "10   2022-10-02           20            12             2.4         7.8   \n",
       "11   2022-10-09           20             9             2.2         6.6   \n",
       "12   2022-10-16           19            10             2.9         7.3   \n",
       "13   2022-10-23           19             8             2.5         7.9   \n",
       "14   2022-10-30           20             8             2.6         7.5   \n",
       "15   2022-11-06           19             9             2.9         6.5   \n",
       "16   2022-11-13           18             9             2.4         6.9   \n",
       "17   2022-11-20           18            10             2.7         6.1   \n",
       "18   2022-11-27           19             9             2.0         6.2   \n",
       "19   2022-12-04           19            10             2.7         7.0   \n",
       "20   2022-12-11           18            10             2.6         6.6   \n",
       "21   2022-12-19           19            10             2.9         7.9   \n",
       "\n",
       "    bubble_size  \n",
       "0           0.2  \n",
       "1           0.4  \n",
       "2           0.3  \n",
       "3           0.2  \n",
       "4           0.1  \n",
       "5           0.1  \n",
       "6           0.4  \n",
       "7           0.1  \n",
       "8           0.3  \n",
       "9           0.2  \n",
       "10          0.4  \n",
       "11          0.2  \n",
       "12          0.1  \n",
       "13          0.3  \n",
       "14          0.4  \n",
       "15          0.2  \n",
       "16          0.1  \n",
       "17          0.1  \n",
       "18          0.4  \n",
       "19          0.4  \n",
       "20          0.2  \n",
       "21          0.3  "
      ]
     },
     "execution_count": 139,
     "metadata": {},
     "output_type": "execute_result"
    }
   ],
   "source": [
    "feedings"
   ]
  },
  {
   "cell_type": "code",
   "execution_count": 143,
   "id": "2632e786-bde7-43ab-b140-7c306f592650",
   "metadata": {},
   "outputs": [],
   "source": [
    "feedings[['feeding_date']]"
   ]
  },
  {
   "cell_type": "code",
   "execution_count": 144,
   "id": "b2c6c883-b221-4bff-99e3-e2de20a10b5e",
   "metadata": {},
   "outputs": [
    {
     "name": "stderr",
     "output_type": "stream",
     "text": [
      "/var/folders/mm/p2dqwhz10d1dvvs017_jlpb80000gn/T/ipykernel_830/378337523.py:3: SettingWithCopyWarning: \n",
      "A value is trying to be set on a copy of a slice from a DataFrame.\n",
      "Try using .loc[row_indexer,col_indexer] = value instead\n",
      "\n",
      "See the caveats in the documentation: https://pandas.pydata.org/pandas-docs/stable/user_guide/indexing.html#returning-a-view-versus-a-copy\n",
      "  leftover['leftover_dough'] = 90\n"
     ]
    }
   ],
   "source": [
    "# of 110 g, 10 g sourdough are used for the new one\n",
    "# and 10 g are lost during handling\n",
    "leftover['leftover_dough'] = 90"
   ]
  },
  {
   "cell_type": "code",
   "execution_count": 147,
   "id": "5f2a9ed3-79ed-49b4-acd6-f27d8684f756",
   "metadata": {},
   "outputs": [
    {
     "data": {
      "text/html": [
       "<div>\n",
       "<style scoped>\n",
       "    .dataframe tbody tr th:only-of-type {\n",
       "        vertical-align: middle;\n",
       "    }\n",
       "\n",
       "    .dataframe tbody tr th {\n",
       "        vertical-align: top;\n",
       "    }\n",
       "\n",
       "    .dataframe thead th {\n",
       "        text-align: right;\n",
       "    }\n",
       "</style>\n",
       "<table border=\"1\" class=\"dataframe\">\n",
       "  <thead>\n",
       "    <tr style=\"text-align: right;\">\n",
       "      <th></th>\n",
       "      <th>feeding_date</th>\n",
       "      <th>leftover_dough</th>\n",
       "      <th>baking_date</th>\n",
       "      <th>used_starter</th>\n",
       "    </tr>\n",
       "  </thead>\n",
       "  <tbody>\n",
       "    <tr>\n",
       "      <th>0</th>\n",
       "      <td>2022-07-24</td>\n",
       "      <td>90</td>\n",
       "      <td>2022-08-13</td>\n",
       "      <td>10.0</td>\n",
       "    </tr>\n",
       "    <tr>\n",
       "      <th>1</th>\n",
       "      <td>2022-07-31</td>\n",
       "      <td>90</td>\n",
       "      <td>2022-09-18</td>\n",
       "      <td>20.0</td>\n",
       "    </tr>\n",
       "    <tr>\n",
       "      <th>2</th>\n",
       "      <td>2022-08-07</td>\n",
       "      <td>90</td>\n",
       "      <td>2022-10-23</td>\n",
       "      <td>15.0</td>\n",
       "    </tr>\n",
       "    <tr>\n",
       "      <th>3</th>\n",
       "      <td>2022-08-14</td>\n",
       "      <td>90</td>\n",
       "      <td>2022-11-01</td>\n",
       "      <td>10.0</td>\n",
       "    </tr>\n",
       "    <tr>\n",
       "      <th>4</th>\n",
       "      <td>2022-08-21</td>\n",
       "      <td>90</td>\n",
       "      <td>2022-12-14</td>\n",
       "      <td>30.0</td>\n",
       "    </tr>\n",
       "    <tr>\n",
       "      <th>5</th>\n",
       "      <td>2022-08-28</td>\n",
       "      <td>90</td>\n",
       "      <td>NaT</td>\n",
       "      <td>NaN</td>\n",
       "    </tr>\n",
       "    <tr>\n",
       "      <th>6</th>\n",
       "      <td>2022-09-04</td>\n",
       "      <td>90</td>\n",
       "      <td>NaT</td>\n",
       "      <td>NaN</td>\n",
       "    </tr>\n",
       "    <tr>\n",
       "      <th>7</th>\n",
       "      <td>2022-09-11</td>\n",
       "      <td>90</td>\n",
       "      <td>NaT</td>\n",
       "      <td>NaN</td>\n",
       "    </tr>\n",
       "    <tr>\n",
       "      <th>8</th>\n",
       "      <td>2022-09-18</td>\n",
       "      <td>90</td>\n",
       "      <td>NaT</td>\n",
       "      <td>NaN</td>\n",
       "    </tr>\n",
       "    <tr>\n",
       "      <th>9</th>\n",
       "      <td>2022-09-25</td>\n",
       "      <td>90</td>\n",
       "      <td>NaT</td>\n",
       "      <td>NaN</td>\n",
       "    </tr>\n",
       "    <tr>\n",
       "      <th>10</th>\n",
       "      <td>2022-10-02</td>\n",
       "      <td>90</td>\n",
       "      <td>NaT</td>\n",
       "      <td>NaN</td>\n",
       "    </tr>\n",
       "    <tr>\n",
       "      <th>11</th>\n",
       "      <td>2022-10-09</td>\n",
       "      <td>90</td>\n",
       "      <td>NaT</td>\n",
       "      <td>NaN</td>\n",
       "    </tr>\n",
       "    <tr>\n",
       "      <th>12</th>\n",
       "      <td>2022-10-16</td>\n",
       "      <td>90</td>\n",
       "      <td>NaT</td>\n",
       "      <td>NaN</td>\n",
       "    </tr>\n",
       "    <tr>\n",
       "      <th>13</th>\n",
       "      <td>2022-10-23</td>\n",
       "      <td>90</td>\n",
       "      <td>NaT</td>\n",
       "      <td>NaN</td>\n",
       "    </tr>\n",
       "    <tr>\n",
       "      <th>14</th>\n",
       "      <td>2022-10-30</td>\n",
       "      <td>90</td>\n",
       "      <td>NaT</td>\n",
       "      <td>NaN</td>\n",
       "    </tr>\n",
       "    <tr>\n",
       "      <th>15</th>\n",
       "      <td>2022-11-06</td>\n",
       "      <td>90</td>\n",
       "      <td>NaT</td>\n",
       "      <td>NaN</td>\n",
       "    </tr>\n",
       "    <tr>\n",
       "      <th>16</th>\n",
       "      <td>2022-11-13</td>\n",
       "      <td>90</td>\n",
       "      <td>NaT</td>\n",
       "      <td>NaN</td>\n",
       "    </tr>\n",
       "    <tr>\n",
       "      <th>17</th>\n",
       "      <td>2022-11-20</td>\n",
       "      <td>90</td>\n",
       "      <td>NaT</td>\n",
       "      <td>NaN</td>\n",
       "    </tr>\n",
       "    <tr>\n",
       "      <th>18</th>\n",
       "      <td>2022-11-27</td>\n",
       "      <td>90</td>\n",
       "      <td>NaT</td>\n",
       "      <td>NaN</td>\n",
       "    </tr>\n",
       "    <tr>\n",
       "      <th>19</th>\n",
       "      <td>2022-12-04</td>\n",
       "      <td>90</td>\n",
       "      <td>NaT</td>\n",
       "      <td>NaN</td>\n",
       "    </tr>\n",
       "    <tr>\n",
       "      <th>20</th>\n",
       "      <td>2022-12-11</td>\n",
       "      <td>90</td>\n",
       "      <td>NaT</td>\n",
       "      <td>NaN</td>\n",
       "    </tr>\n",
       "    <tr>\n",
       "      <th>21</th>\n",
       "      <td>2022-12-19</td>\n",
       "      <td>90</td>\n",
       "      <td>NaT</td>\n",
       "      <td>NaN</td>\n",
       "    </tr>\n",
       "  </tbody>\n",
       "</table>\n",
       "</div>"
      ],
      "text/plain": [
       "   feeding_date  leftover_dough baking_date  used_starter\n",
       "0    2022-07-24              90  2022-08-13          10.0\n",
       "1    2022-07-31              90  2022-09-18          20.0\n",
       "2    2022-08-07              90  2022-10-23          15.0\n",
       "3    2022-08-14              90  2022-11-01          10.0\n",
       "4    2022-08-21              90  2022-12-14          30.0\n",
       "5    2022-08-28              90         NaT           NaN\n",
       "6    2022-09-04              90         NaT           NaN\n",
       "7    2022-09-11              90         NaT           NaN\n",
       "8    2022-09-18              90         NaT           NaN\n",
       "9    2022-09-25              90         NaT           NaN\n",
       "10   2022-10-02              90         NaT           NaN\n",
       "11   2022-10-09              90         NaT           NaN\n",
       "12   2022-10-16              90         NaT           NaN\n",
       "13   2022-10-23              90         NaT           NaN\n",
       "14   2022-10-30              90         NaT           NaN\n",
       "15   2022-11-06              90         NaT           NaN\n",
       "16   2022-11-13              90         NaT           NaN\n",
       "17   2022-11-20              90         NaT           NaN\n",
       "18   2022-11-27              90         NaT           NaN\n",
       "19   2022-12-04              90         NaT           NaN\n",
       "20   2022-12-11              90         NaT           NaN\n",
       "21   2022-12-19              90         NaT           NaN"
      ]
     },
     "execution_count": 147,
     "metadata": {},
     "output_type": "execute_result"
    }
   ],
   "source": [
    "pd.concat([leftover, baked_bread[['baking_date', 'used_starter']]],axis=1)"
   ]
  },
  {
   "cell_type": "code",
   "execution_count": 145,
   "id": "3df803e3-89a3-467b-92e4-bcfaab77ee4e",
   "metadata": {},
   "outputs": [
    {
     "data": {
      "text/html": [
       "<div>\n",
       "<style scoped>\n",
       "    .dataframe tbody tr th:only-of-type {\n",
       "        vertical-align: middle;\n",
       "    }\n",
       "\n",
       "    .dataframe tbody tr th {\n",
       "        vertical-align: top;\n",
       "    }\n",
       "\n",
       "    .dataframe thead th {\n",
       "        text-align: right;\n",
       "    }\n",
       "</style>\n",
       "<table border=\"1\" class=\"dataframe\">\n",
       "  <thead>\n",
       "    <tr style=\"text-align: right;\">\n",
       "      <th></th>\n",
       "      <th>feeding_date</th>\n",
       "      <th>leftover_dough</th>\n",
       "    </tr>\n",
       "  </thead>\n",
       "  <tbody>\n",
       "    <tr>\n",
       "      <th>0</th>\n",
       "      <td>2022-07-24</td>\n",
       "      <td>90</td>\n",
       "    </tr>\n",
       "    <tr>\n",
       "      <th>1</th>\n",
       "      <td>2022-07-31</td>\n",
       "      <td>90</td>\n",
       "    </tr>\n",
       "    <tr>\n",
       "      <th>2</th>\n",
       "      <td>2022-08-07</td>\n",
       "      <td>90</td>\n",
       "    </tr>\n",
       "    <tr>\n",
       "      <th>3</th>\n",
       "      <td>2022-08-14</td>\n",
       "      <td>90</td>\n",
       "    </tr>\n",
       "    <tr>\n",
       "      <th>4</th>\n",
       "      <td>2022-08-21</td>\n",
       "      <td>90</td>\n",
       "    </tr>\n",
       "    <tr>\n",
       "      <th>5</th>\n",
       "      <td>2022-08-28</td>\n",
       "      <td>90</td>\n",
       "    </tr>\n",
       "    <tr>\n",
       "      <th>6</th>\n",
       "      <td>2022-09-04</td>\n",
       "      <td>90</td>\n",
       "    </tr>\n",
       "    <tr>\n",
       "      <th>7</th>\n",
       "      <td>2022-09-11</td>\n",
       "      <td>90</td>\n",
       "    </tr>\n",
       "    <tr>\n",
       "      <th>8</th>\n",
       "      <td>2022-09-18</td>\n",
       "      <td>90</td>\n",
       "    </tr>\n",
       "    <tr>\n",
       "      <th>9</th>\n",
       "      <td>2022-09-25</td>\n",
       "      <td>90</td>\n",
       "    </tr>\n",
       "    <tr>\n",
       "      <th>10</th>\n",
       "      <td>2022-10-02</td>\n",
       "      <td>90</td>\n",
       "    </tr>\n",
       "    <tr>\n",
       "      <th>11</th>\n",
       "      <td>2022-10-09</td>\n",
       "      <td>90</td>\n",
       "    </tr>\n",
       "    <tr>\n",
       "      <th>12</th>\n",
       "      <td>2022-10-16</td>\n",
       "      <td>90</td>\n",
       "    </tr>\n",
       "    <tr>\n",
       "      <th>13</th>\n",
       "      <td>2022-10-23</td>\n",
       "      <td>90</td>\n",
       "    </tr>\n",
       "    <tr>\n",
       "      <th>14</th>\n",
       "      <td>2022-10-30</td>\n",
       "      <td>90</td>\n",
       "    </tr>\n",
       "    <tr>\n",
       "      <th>15</th>\n",
       "      <td>2022-11-06</td>\n",
       "      <td>90</td>\n",
       "    </tr>\n",
       "    <tr>\n",
       "      <th>16</th>\n",
       "      <td>2022-11-13</td>\n",
       "      <td>90</td>\n",
       "    </tr>\n",
       "    <tr>\n",
       "      <th>17</th>\n",
       "      <td>2022-11-20</td>\n",
       "      <td>90</td>\n",
       "    </tr>\n",
       "    <tr>\n",
       "      <th>18</th>\n",
       "      <td>2022-11-27</td>\n",
       "      <td>90</td>\n",
       "    </tr>\n",
       "    <tr>\n",
       "      <th>19</th>\n",
       "      <td>2022-12-04</td>\n",
       "      <td>90</td>\n",
       "    </tr>\n",
       "    <tr>\n",
       "      <th>20</th>\n",
       "      <td>2022-12-11</td>\n",
       "      <td>90</td>\n",
       "    </tr>\n",
       "    <tr>\n",
       "      <th>21</th>\n",
       "      <td>2022-12-19</td>\n",
       "      <td>90</td>\n",
       "    </tr>\n",
       "  </tbody>\n",
       "</table>\n",
       "</div>"
      ],
      "text/plain": [
       "   feeding_date  leftover_dough\n",
       "0    2022-07-24              90\n",
       "1    2022-07-31              90\n",
       "2    2022-08-07              90\n",
       "3    2022-08-14              90\n",
       "4    2022-08-21              90\n",
       "5    2022-08-28              90\n",
       "6    2022-09-04              90\n",
       "7    2022-09-11              90\n",
       "8    2022-09-18              90\n",
       "9    2022-09-25              90\n",
       "10   2022-10-02              90\n",
       "11   2022-10-09              90\n",
       "12   2022-10-16              90\n",
       "13   2022-10-23              90\n",
       "14   2022-10-30              90\n",
       "15   2022-11-06              90\n",
       "16   2022-11-13              90\n",
       "17   2022-11-20              90\n",
       "18   2022-11-27              90\n",
       "19   2022-12-04              90\n",
       "20   2022-12-11              90\n",
       "21   2022-12-19              90"
      ]
     },
     "execution_count": 145,
     "metadata": {},
     "output_type": "execute_result"
    }
   ],
   "source": [
    "leftover"
   ]
  },
  {
   "cell_type": "markdown",
   "id": "78895c21-1e5c-44cb-9c01-c97444b4b08b",
   "metadata": {},
   "source": [
    "**TODO**\n",
    "* create a suggestion table for suitable recipes\n",
    "* caculate cumsum of starter"
   ]
  },
  {
   "cell_type": "code",
   "execution_count": null,
   "id": "753f5d25-c859-473f-b605-6b5346af9902",
   "metadata": {},
   "outputs": [],
   "source": []
  },
  {
   "cell_type": "markdown",
   "id": "38400966-3b70-4f8e-a261-175ea6e6fd41",
   "metadata": {},
   "source": [
    "# Data processing"
   ]
  },
  {
   "cell_type": "code",
   "execution_count": 55,
   "id": "5a1bc5ca-dbac-42ab-9a97-293587771138",
   "metadata": {},
   "outputs": [],
   "source": [
    "bacteria_composition = pd.DataFrame({\n",
    "    'temperature':[20, 25,30, 35],\n",
    "    'dominant_microbes':['none', 'lactic acid bacteria', 'Acetic acid bacteria', 'sourdough yeast']\n",
    "})"
   ]
  },
  {
   "cell_type": "markdown",
   "id": "47a26590-d177-4bb5-bfb7-0b024c766b9a",
   "metadata": {},
   "source": [
    "**TODO**\n",
    "* improve bacteria composition"
   ]
  },
  {
   "cell_type": "markdown",
   "id": "8d4f19cf-2806-477b-8ec1-2388f5cdfd60",
   "metadata": {},
   "source": [
    "**TODO**\n",
    "* calculate growth rate"
   ]
  },
  {
   "cell_type": "code",
   "execution_count": null,
   "id": "37005a02-1ef1-4cad-9d6d-969d5338f48a",
   "metadata": {},
   "outputs": [],
   "source": []
  },
  {
   "cell_type": "markdown",
   "id": "c42df0ea-b612-4449-acb5-ffe2dfe95840",
   "metadata": {},
   "source": [
    "# KPIs"
   ]
  },
  {
   "cell_type": "markdown",
   "id": "e6b701e8-e3e5-4a34-afd8-c33d1021c082",
   "metadata": {},
   "source": [
    "## Bread"
   ]
  },
  {
   "cell_type": "markdown",
   "id": "b16d1158-4af9-467f-b3a4-b6fbb7087bd8",
   "metadata": {},
   "source": [
    "**Top 3 breads**"
   ]
  },
  {
   "cell_type": "code",
   "execution_count": 71,
   "id": "f331b459-bf3f-4617-bf42-24903d2d9202",
   "metadata": {},
   "outputs": [
    {
     "data": {
      "text/plain": [
       "1    Italienisches Landbrot\n",
       "3                   Neptune\n",
       "0               Dinkelsonni\n",
       "Name: bread_name, dtype: object"
      ]
     },
     "execution_count": 71,
     "metadata": {},
     "output_type": "execute_result"
    }
   ],
   "source": [
    "baked_bread.sort_values(by='bread_rating', ascending=False)['bread_name'].head(3)"
   ]
  },
  {
   "cell_type": "code",
   "execution_count": null,
   "id": "80b6cd3c-74ce-4f52-b936-f41c4519c4b1",
   "metadata": {},
   "outputs": [],
   "source": []
  },
  {
   "cell_type": "markdown",
   "id": "38faa4c3-f379-420b-8e51-916cc1c54b99",
   "metadata": {},
   "source": [
    "**Baked breads**"
   ]
  },
  {
   "cell_type": "code",
   "execution_count": 100,
   "id": "e0db4a36-d1ff-4515-a3bd-3a0694c5e789",
   "metadata": {},
   "outputs": [
    {
     "data": {
      "text/plain": [
       "5"
      ]
     },
     "execution_count": 100,
     "metadata": {},
     "output_type": "execute_result"
    }
   ],
   "source": [
    "len(baked_bread)"
   ]
  },
  {
   "cell_type": "code",
   "execution_count": null,
   "id": "6ae24cee-61ea-4375-b717-c3fa0d92bf6d",
   "metadata": {},
   "outputs": [],
   "source": []
  },
  {
   "cell_type": "markdown",
   "id": "aab4298a-c22b-4d23-810a-16adaf70ec19",
   "metadata": {},
   "source": [
    "**Relevant factors**"
   ]
  },
  {
   "cell_type": "code",
   "execution_count": null,
   "id": "cbc03b8a-d09b-426f-a933-7c3793f3d5b7",
   "metadata": {},
   "outputs": [],
   "source": []
  },
  {
   "cell_type": "code",
   "execution_count": null,
   "id": "1b0731bf-e679-49f2-a3b3-60a991b64747",
   "metadata": {},
   "outputs": [],
   "source": []
  },
  {
   "cell_type": "code",
   "execution_count": null,
   "id": "409a8aae-a84b-4b2a-80ce-3d295bedfb71",
   "metadata": {},
   "outputs": [],
   "source": []
  },
  {
   "cell_type": "markdown",
   "id": "d03552b4-7f98-41f9-b374-7c586a425f3c",
   "metadata": {},
   "source": [
    "# Plots"
   ]
  },
  {
   "cell_type": "code",
   "execution_count": 133,
   "id": "60ee3a10-ea08-4c6b-a918-e74880d827f0",
   "metadata": {},
   "outputs": [
    {
     "data": {
      "image/png": "[encoded data removed]",
      "text/plain": [
       "<Figure size 720x360 with 1 Axes>"
      ]
     },
     "metadata": {},
     "output_type": "display_data"
    }
   ],
   "source": [
    "sns.displot(\n",
    "    data=baked_bread.groupby(pd.Grouper(key=\"baking_date\", freq=\"M\"))[\n",
    "        \"bread_rating\"\n",
    "    ].mean(),\n",
    "    x=\"baking_date\",\n",
    "    height=5,\n",
    "    aspect=2,\n",
    ");"
   ]
  },
  {
   "cell_type": "markdown",
   "id": "88f12a4f-ab84-4e0b-85cb-8ae8ae11be9c",
   "metadata": {},
   "source": [
    "**TODO**\n",
    "* Wachstumsrate (Anfangshoehe, Endhoehe)\n",
    "* baking frequency"
   ]
  },
  {
   "cell_type": "code",
   "execution_count": null,
   "id": "56d09d6d-ef8c-4bef-81b4-7945a6324877",
   "metadata": {},
   "outputs": [],
   "source": []
  },
  {
   "cell_type": "markdown",
   "id": "104f7a0d-56d2-40f9-83a8-c16234f8cd97",
   "metadata": {},
   "source": [
    "# Bread experiments"
   ]
  },
  {
   "cell_type": "markdown",
   "id": "c9a5a149-a469-4df8-b53a-4953544d0db3",
   "metadata": {},
   "source": [
    "**TODO**\n",
    "* Vorgehen + Modifikation + Resultat + Experimentbasis (Brot) "
   ]
  },
  {
   "cell_type": "code",
   "execution_count": null,
   "id": "ac346c81-32ec-444a-b858-061a6051c44a",
   "metadata": {},
   "outputs": [],
   "source": []
  }
 ],
 "metadata": {
  "kernelspec": {
   "display_name": "Python 3 (ipykernel)",
   "language": "python",
   "name": "python3"
  },
  "language_info": {
   "codemirror_mode": {
    "name": "ipython",
    "version": 3
   },
   "file_extension": ".py",
   "mimetype": "text/x-python",
   "name": "python",
   "nbconvert_exporter": "python",
   "pygments_lexer": "ipython3",
   "version": "3.9.12"
  }
 },
 "nbformat": 4,
 "nbformat_minor": 5
}
