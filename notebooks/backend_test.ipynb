{
 "cells": [
  {
   "cell_type": "code",
   "execution_count": 1,
   "metadata": {},
   "outputs": [],
   "source": [
    "%load_ext blackcellmagic"
   ]
  },
  {
   "cell_type": "code",
   "execution_count": 2,
   "metadata": {},
   "outputs": [],
   "source": [
    "# Standard:\n",
    "import os\n",
    "import json\n",
    "from typing import Dict, List, Any\n",
    "\n",
    "# PyPI:\n",
    "from dotenv import load_dotenv\n",
    "\n",
    "load_dotenv()\n",
    "\n",
    "# Local:\n",
    "from common.config import chatgpt_35_turbo\n",
    "from common.prompts import system_prompt \n",
    "from common.generate import generate_response\n",
    "\n",
    "model = chatgpt_35_turbo['name']\n"
   ]
  },
  {
   "cell_type": "code",
   "execution_count": 3,
   "metadata": {},
   "outputs": [],
   "source": [
    "user_input = \"I took the wrong flour to feed my sourdough. Is that a problem?\""
   ]
  },
  {
   "cell_type": "code",
   "execution_count": 4,
   "metadata": {},
   "outputs": [
    {
     "data": {
      "text/plain": [
       "\"Using the wrong flour to feed your sourdough can affect its fermentation and overall health, but it's not necessarily a major problem. Different types of flour contain varying levels of nutrients and protein, which can impact how your sourdough starter behaves.\\n\\nIf you accidentally used a different type of flour than you normally do, it's best to monitor your sourdough closely over the next few feedings. You may notice changes in its activity, such as slower or faster fermentation, changes in texture, or differences in the aroma.\\n\\nIf you notice any significant changes or if your sourdough seems to be struggling, you can try gradually transitioning back to your usual flour by incorporating small amounts of it during feedings. This can help your sourdough adjust more easily.\\n\\nIn general, sourdough starters are quite resilient, so a one-time feeding with the wrong flour is unlikely to cause long-term issues. Just keep an eye on it and make adjustments as needed.\""
      ]
     },
     "execution_count": 4,
     "metadata": {},
     "output_type": "execute_result"
    }
   ],
   "source": [
    "generate_response(system_prompt=system_prompt, user_prompt=user_input, model=model)"
   ]
  },
  {
   "cell_type": "code",
   "execution_count": null,
   "metadata": {},
   "outputs": [],
   "source": []
  }
 ],
 "metadata": {
  "kernelspec": {
   "display_name": ".venv",
   "language": "python",
   "name": "python3"
  },
  "language_info": {
   "codemirror_mode": {
    "name": "ipython",
    "version": 3
   },
   "file_extension": ".py",
   "mimetype": "text/x-python",
   "name": "python",
   "nbconvert_exporter": "python",
   "pygments_lexer": "ipython3",
   "version": "3.11.6"
  }
 },
 "nbformat": 4,
 "nbformat_minor": 2
}
