{
 "cells": [
  {
   "cell_type": "code",
   "execution_count": 74,
   "id": "8d794ed5-a4df-4bd6-b8ec-716e0cf31792",
   "metadata": {},
   "outputs": [
    {
     "name": "stdout",
     "output_type": "stream",
     "text": [
      "The blackcellmagic extension is already loaded. To reload it, use:\n",
      "  %reload_ext blackcellmagic\n"
     ]
    }
   ],
   "source": [
    "%load_ext blackcellmagic"
   ]
  },
  {
   "cell_type": "code",
   "execution_count": 75,
   "id": "40e8bfd9-3561-48ee-bdb7-b4bab1f28c08",
   "metadata": {},
   "outputs": [],
   "source": [
    "import pandas as pd\n",
    "import seaborn as sns\n",
    "import numpy as np"
   ]
  },
  {
   "cell_type": "code",
   "execution_count": 76,
   "id": "7f43aa85-b1b2-46dc-9a92-11220ee2cd2a",
   "metadata": {},
   "outputs": [],
   "source": [
    "PATH = ('/Users/admin/Documents/GitHub/keeprising/data/')"
   ]
  },
  {
   "cell_type": "markdown",
   "id": "f01384dd-5767-4a3b-85e6-7b04f35c5ddb",
   "metadata": {},
   "source": [
    "# Data"
   ]
  },
  {
   "cell_type": "markdown",
   "id": "42d492d7-bd72-4f4b-965d-f27eccebda36",
   "metadata": {},
   "source": [
    "## Feeding data update"
   ]
  },
  {
   "cell_type": "markdown",
   "id": "bbc8f386-5cce-434c-9a69-a8264507dc78",
   "metadata": {},
   "source": [
    "### Loading past feeding data"
   ]
  },
  {
   "cell_type": "code",
   "execution_count": 77,
   "id": "39411ba0-cff7-4eba-ba94-483db45df409",
   "metadata": {},
   "outputs": [],
   "source": [
    "feedings = pd.read_parquet(PATH + 'feedings.parquet')"
   ]
  },
  {
   "cell_type": "markdown",
   "id": "b73b66fd-209d-4a68-8ab5-0167afc4cd30",
   "metadata": {},
   "source": [
    "### Adding new data"
   ]
  },
  {
   "cell_type": "code",
   "execution_count": 78,
   "id": "091e3066-9e82-41c5-a791-2a71f0d0d31d",
   "metadata": {},
   "outputs": [],
   "source": [
    "date_today = '2022-12-20'"
   ]
  },
  {
   "cell_type": "code",
   "execution_count": 79,
   "id": "4df9d77f-c8bf-4859-8710-10daf7f01fba",
   "metadata": {},
   "outputs": [],
   "source": [
    "temperature_today = 19"
   ]
  },
  {
   "cell_type": "code",
   "execution_count": 80,
   "id": "5d959b2f-c8a1-429d-afdc-7808ee61d293",
   "metadata": {},
   "outputs": [],
   "source": [
    "feeding_time_today = 10"
   ]
  },
  {
   "cell_type": "code",
   "execution_count": 81,
   "id": "f216c4df-1af8-4d88-8d4a-1ecbd8924900",
   "metadata": {},
   "outputs": [],
   "source": [
    "initial_height_today = 2.9"
   ]
  },
  {
   "cell_type": "code",
   "execution_count": 82,
   "id": "fd77d496-03fb-42b2-af70-6bd7668c08f6",
   "metadata": {},
   "outputs": [],
   "source": [
    "end_height_today = 7.9"
   ]
  },
  {
   "cell_type": "code",
   "execution_count": 83,
   "id": "f5ad5577-567a-4ca4-97c6-0ff9e927a501",
   "metadata": {},
   "outputs": [],
   "source": [
    "bubble_size_today = 0.3"
   ]
  },
  {
   "cell_type": "code",
   "execution_count": 84,
   "id": "4a2e54c9-0f9a-4b3d-96d7-457f872a3216",
   "metadata": {},
   "outputs": [],
   "source": [
    "latest_feeding = pd.DataFrame(data={\n",
    "    'feeding_date':date_today, \n",
    "    'temperature':temperature_today,\n",
    "    'feeding_time':feeding_time_today,\n",
    "    'initial_height':initial_height_today,\n",
    "    'end_height':end_height_today,\n",
    "    'bubble_size':bubble_size_today\n",
    "}, index=[0])"
   ]
  },
  {
   "cell_type": "code",
   "execution_count": null,
   "id": "50f28857-e96b-4e0e-8aa2-5488e556fa8c",
   "metadata": {},
   "outputs": [],
   "source": []
  },
  {
   "cell_type": "markdown",
   "id": "57c17866-5a8f-4e3c-9895-85ffbc3b8158",
   "metadata": {
    "tags": []
   },
   "source": [
    "### Df merging"
   ]
  },
  {
   "cell_type": "code",
   "execution_count": 85,
   "id": "960378a1-ae02-4e29-beb4-4b44341f5d3f",
   "metadata": {},
   "outputs": [],
   "source": [
    "feedings = pd.concat([feedings, latest_feeding], ignore_index=True)"
   ]
  },
  {
   "cell_type": "code",
   "execution_count": 86,
   "id": "d998249f-d1e5-4d45-9f73-a54efd5ea62b",
   "metadata": {},
   "outputs": [],
   "source": [
    "feedings.to_parquet(PATH + 'feedings.parquet')"
   ]
  },
  {
   "cell_type": "code",
   "execution_count": null,
   "id": "d8f81259-142f-46f0-9dee-2be10823efc7",
   "metadata": {},
   "outputs": [],
   "source": []
  },
  {
   "cell_type": "markdown",
   "id": "38400966-3b70-4f8e-a261-175ea6e6fd41",
   "metadata": {},
   "source": [
    "## Data processing"
   ]
  },
  {
   "cell_type": "markdown",
   "id": "2d768ab9-d871-41ed-950a-47a76076691c",
   "metadata": {},
   "source": [
    "### Bacteria composition"
   ]
  },
  {
   "cell_type": "markdown",
   "id": "47a26590-d177-4bb5-bfb7-0b024c766b9a",
   "metadata": {},
   "source": [
    "**TODO**\n",
    "* improve bacteria composition"
   ]
  },
  {
   "cell_type": "code",
   "execution_count": 87,
   "id": "5a1bc5ca-dbac-42ab-9a97-293587771138",
   "metadata": {},
   "outputs": [],
   "source": [
    "bacteria_composition = pd.DataFrame({\n",
    "    'temperature':[20, 25,30, 35],\n",
    "    'dominant_microbes':['none', 'lactic acid bacteria', 'Acetic acid bacteria', 'sourdough yeast']\n",
    "})"
   ]
  },
  {
   "cell_type": "code",
   "execution_count": 88,
   "id": "b4c4775c-ff90-4e38-bf3a-4b881c5c9360",
   "metadata": {},
   "outputs": [
    {
     "data": {
      "text/html": [
       "<div>\n",
       "<style scoped>\n",
       "    .dataframe tbody tr th:only-of-type {\n",
       "        vertical-align: middle;\n",
       "    }\n",
       "\n",
       "    .dataframe tbody tr th {\n",
       "        vertical-align: top;\n",
       "    }\n",
       "\n",
       "    .dataframe thead th {\n",
       "        text-align: right;\n",
       "    }\n",
       "</style>\n",
       "<table border=\"1\" class=\"dataframe\">\n",
       "  <thead>\n",
       "    <tr style=\"text-align: right;\">\n",
       "      <th></th>\n",
       "      <th>temperature</th>\n",
       "      <th>dominant_microbes</th>\n",
       "    </tr>\n",
       "  </thead>\n",
       "  <tbody>\n",
       "    <tr>\n",
       "      <th>0</th>\n",
       "      <td>20</td>\n",
       "      <td>none</td>\n",
       "    </tr>\n",
       "    <tr>\n",
       "      <th>1</th>\n",
       "      <td>25</td>\n",
       "      <td>lactic acid bacteria</td>\n",
       "    </tr>\n",
       "    <tr>\n",
       "      <th>2</th>\n",
       "      <td>30</td>\n",
       "      <td>Acetic acid bacteria</td>\n",
       "    </tr>\n",
       "    <tr>\n",
       "      <th>3</th>\n",
       "      <td>35</td>\n",
       "      <td>sourdough yeast</td>\n",
       "    </tr>\n",
       "  </tbody>\n",
       "</table>\n",
       "</div>"
      ],
      "text/plain": [
       "   temperature     dominant_microbes\n",
       "0           20                  none\n",
       "1           25  lactic acid bacteria\n",
       "2           30  Acetic acid bacteria\n",
       "3           35       sourdough yeast"
      ]
     },
     "execution_count": 88,
     "metadata": {},
     "output_type": "execute_result"
    }
   ],
   "source": [
    "bacteria_composition"
   ]
  },
  {
   "cell_type": "code",
   "execution_count": null,
   "id": "70587d96-0ae4-461e-a2de-9133d54d1920",
   "metadata": {},
   "outputs": [],
   "source": []
  },
  {
   "cell_type": "code",
   "execution_count": 89,
   "id": "a99e0372-ea83-4c4c-8575-53e6e9f0b610",
   "metadata": {},
   "outputs": [],
   "source": [
    "feedings[\"bacteria_composition\"] = np.where(\n",
    "    feedings[\"temperature\"] <= 20,\n",
    "    bacteria_composition.loc[\n",
    "        bacteria_composition[\"temperature\"] == 20, \"dominant_microbes\"\n",
    "    ],\n",
    "    np.where(\n",
    "        ((feedings[\"temperature\"] > 20) & (feedings[\"temperature\"] <= 25)),\n",
    "        bacteria_composition.loc[\n",
    "            bacteria_composition[\"temperature\"] == 25, \"dominant_microbes\"\n",
    "        ],\n",
    "        np.where(\n",
    "            ((feedings[\"temperature\"] > 25) & (feedings[\"temperature\"] <= 30)),\n",
    "            bacteria_composition.loc[\n",
    "                bacteria_composition[\"temperature\"] == 30, \"dominant_microbes\"\n",
    "            ],\n",
    "            bacteria_composition.loc[\n",
    "                bacteria_composition[\"temperature\"] == 35, \"dominant_microbes\"\n",
    "            ],\n",
    "        ),\n",
    "    ),\n",
    ")"
   ]
  },
  {
   "cell_type": "markdown",
   "id": "4b69374a-d440-4d24-8367-a9f7bcfbe557",
   "metadata": {},
   "source": [
    "### Growth rate"
   ]
  },
  {
   "cell_type": "code",
   "execution_count": 90,
   "id": "bc579a88-63ef-4838-9e19-d2ddefc4508d",
   "metadata": {},
   "outputs": [],
   "source": [
    "feedings['growth_rate'] = feedings['end_height'] / feedings['initial_height']"
   ]
  },
  {
   "cell_type": "code",
   "execution_count": 91,
   "id": "e63d271e-12de-4492-8961-9d06fa574b4a",
   "metadata": {},
   "outputs": [],
   "source": [
    "feedings['growth_rate_per_hour'] = feedings['end_height'] / feedings['initial_height'] / feedings['feeding_time']"
   ]
  },
  {
   "cell_type": "code",
   "execution_count": 92,
   "id": "18452b4d-6a17-4e01-90bc-db11d019adb0",
   "metadata": {},
   "outputs": [
    {
     "data": {
      "text/html": [
       "<div>\n",
       "<style scoped>\n",
       "    .dataframe tbody tr th:only-of-type {\n",
       "        vertical-align: middle;\n",
       "    }\n",
       "\n",
       "    .dataframe tbody tr th {\n",
       "        vertical-align: top;\n",
       "    }\n",
       "\n",
       "    .dataframe thead th {\n",
       "        text-align: right;\n",
       "    }\n",
       "</style>\n",
       "<table border=\"1\" class=\"dataframe\">\n",
       "  <thead>\n",
       "    <tr style=\"text-align: right;\">\n",
       "      <th></th>\n",
       "      <th>feeding_date</th>\n",
       "      <th>temperature</th>\n",
       "      <th>feeding_time</th>\n",
       "      <th>initial_height</th>\n",
       "      <th>end_height</th>\n",
       "      <th>bubble_size</th>\n",
       "      <th>bacteria_composition</th>\n",
       "      <th>growth_rate</th>\n",
       "      <th>growth_rate_per_hour</th>\n",
       "    </tr>\n",
       "  </thead>\n",
       "  <tbody>\n",
       "    <tr>\n",
       "      <th>0</th>\n",
       "      <td>2022-07-24</td>\n",
       "      <td>22</td>\n",
       "      <td>8</td>\n",
       "      <td>2.2</td>\n",
       "      <td>7.2</td>\n",
       "      <td>0.2</td>\n",
       "      <td>lactic acid bacteria</td>\n",
       "      <td>3.272727</td>\n",
       "      <td>0.409091</td>\n",
       "    </tr>\n",
       "    <tr>\n",
       "      <th>1</th>\n",
       "      <td>2022-07-31</td>\n",
       "      <td>22</td>\n",
       "      <td>7</td>\n",
       "      <td>2.4</td>\n",
       "      <td>7.8</td>\n",
       "      <td>0.4</td>\n",
       "      <td>lactic acid bacteria</td>\n",
       "      <td>3.250000</td>\n",
       "      <td>0.464286</td>\n",
       "    </tr>\n",
       "    <tr>\n",
       "      <th>2</th>\n",
       "      <td>2022-08-07</td>\n",
       "      <td>22</td>\n",
       "      <td>8</td>\n",
       "      <td>2.7</td>\n",
       "      <td>7.9</td>\n",
       "      <td>0.3</td>\n",
       "      <td>lactic acid bacteria</td>\n",
       "      <td>2.925926</td>\n",
       "      <td>0.365741</td>\n",
       "    </tr>\n",
       "    <tr>\n",
       "      <th>3</th>\n",
       "      <td>2022-08-14</td>\n",
       "      <td>22</td>\n",
       "      <td>8</td>\n",
       "      <td>2.1</td>\n",
       "      <td>6.3</td>\n",
       "      <td>0.2</td>\n",
       "      <td>lactic acid bacteria</td>\n",
       "      <td>3.000000</td>\n",
       "      <td>0.375000</td>\n",
       "    </tr>\n",
       "    <tr>\n",
       "      <th>4</th>\n",
       "      <td>2022-08-21</td>\n",
       "      <td>23</td>\n",
       "      <td>9</td>\n",
       "      <td>2.8</td>\n",
       "      <td>6.1</td>\n",
       "      <td>0.1</td>\n",
       "      <td>lactic acid bacteria</td>\n",
       "      <td>2.178571</td>\n",
       "      <td>0.242063</td>\n",
       "    </tr>\n",
       "  </tbody>\n",
       "</table>\n",
       "</div>"
      ],
      "text/plain": [
       "  feeding_date  temperature  feeding_time  initial_height  end_height  \\\n",
       "0   2022-07-24           22             8             2.2         7.2   \n",
       "1   2022-07-31           22             7             2.4         7.8   \n",
       "2   2022-08-07           22             8             2.7         7.9   \n",
       "3   2022-08-14           22             8             2.1         6.3   \n",
       "4   2022-08-21           23             9             2.8         6.1   \n",
       "\n",
       "   bubble_size  bacteria_composition  growth_rate  growth_rate_per_hour  \n",
       "0          0.2  lactic acid bacteria     3.272727              0.409091  \n",
       "1          0.4  lactic acid bacteria     3.250000              0.464286  \n",
       "2          0.3  lactic acid bacteria     2.925926              0.365741  \n",
       "3          0.2  lactic acid bacteria     3.000000              0.375000  \n",
       "4          0.1  lactic acid bacteria     2.178571              0.242063  "
      ]
     },
     "execution_count": 92,
     "metadata": {},
     "output_type": "execute_result"
    }
   ],
   "source": [
    "feedings.head()"
   ]
  },
  {
   "cell_type": "code",
   "execution_count": null,
   "id": "c36116fa-4b00-48e7-804a-085a156407c7",
   "metadata": {},
   "outputs": [],
   "source": []
  },
  {
   "cell_type": "markdown",
   "id": "d6409d67-44bb-48b9-88b3-309d2c5c0863",
   "metadata": {},
   "source": [
    "## Utilization"
   ]
  },
  {
   "cell_type": "markdown",
   "id": "ad5e8399-2912-49cc-9b44-20ce06170642",
   "metadata": {},
   "source": [
    "### Baked breads"
   ]
  },
  {
   "cell_type": "markdown",
   "id": "bdf944be-31ba-42cf-8f51-bfa73c912647",
   "metadata": {},
   "source": [
    "#### Loading past bread data"
   ]
  },
  {
   "cell_type": "code",
   "execution_count": 93,
   "id": "92db1736-54ab-4ef6-81b8-cbf0114f9e2d",
   "metadata": {},
   "outputs": [],
   "source": [
    "baked_bread = pd.read_parquet(PATH + 'baked_bread.parquet')"
   ]
  },
  {
   "cell_type": "markdown",
   "id": "fb7b7621-5846-4fc8-9ce4-9fefcd33cbe8",
   "metadata": {},
   "source": [
    "#### Adding new data"
   ]
  },
  {
   "cell_type": "code",
   "execution_count": 94,
   "id": "12f90fe4-3986-4301-a3e5-68208dbc0021",
   "metadata": {},
   "outputs": [],
   "source": [
    "latest_bread = 'Paderborner Landbrot'"
   ]
  },
  {
   "cell_type": "code",
   "execution_count": 95,
   "id": "68cc5d9c-a611-4ff4-9606-8400040a7bff",
   "metadata": {},
   "outputs": [],
   "source": [
    "latest_baking_date = '2022-12-14'"
   ]
  },
  {
   "cell_type": "code",
   "execution_count": 96,
   "id": "d76910df-7b6a-4560-ae0e-f6fa5004a421",
   "metadata": {},
   "outputs": [],
   "source": [
    "latest_ranking = 3"
   ]
  },
  {
   "cell_type": "code",
   "execution_count": 97,
   "id": "1dc93e41-9645-4318-b211-fc1ed86ed9cf",
   "metadata": {},
   "outputs": [],
   "source": [
    "latest_starter_used = 30"
   ]
  },
  {
   "cell_type": "code",
   "execution_count": 98,
   "id": "10c5b0f8-6df6-4465-91d4-f1e00ec17157",
   "metadata": {},
   "outputs": [],
   "source": [
    "latest_bread = pd.DataFrame(data={\n",
    "    'bread_name':latest_bread,\n",
    "    'baking_date':latest_baking_date,\n",
    "    'bread_rating':latest_ranking,\n",
    "    'used_starter':latest_starter_used\n",
    "}, index=[0])"
   ]
  },
  {
   "cell_type": "markdown",
   "id": "b61f8dc1-fa09-447d-a75e-5e3376508971",
   "metadata": {},
   "source": [
    "#### Df merging "
   ]
  },
  {
   "cell_type": "code",
   "execution_count": 99,
   "id": "9040f57f-c935-4ba0-bc40-f4c6cae34ba3",
   "metadata": {},
   "outputs": [],
   "source": [
    "baked_bread = pd.concat([baked_bread, latest_bread], ignore_index=True)"
   ]
  },
  {
   "cell_type": "code",
   "execution_count": 100,
   "id": "c312199d-45d4-40ef-9c5f-d9ecddd600ff",
   "metadata": {},
   "outputs": [],
   "source": [
    "baked_bread['baking_date'] = pd.to_datetime(baked_bread['baking_date'])"
   ]
  },
  {
   "cell_type": "code",
   "execution_count": 101,
   "id": "8efa21d7-8806-449f-9bc8-089c5fe8a1c6",
   "metadata": {},
   "outputs": [],
   "source": [
    "baked_bread.to_parquet(PATH + 'baked_bread.parquet')"
   ]
  },
  {
   "cell_type": "code",
   "execution_count": null,
   "id": "ad423722-caed-4d5e-9bcc-ad28846a0db2",
   "metadata": {},
   "outputs": [],
   "source": []
  },
  {
   "cell_type": "markdown",
   "id": "4ba09aea-1d2f-4d4b-80ac-0f1d486feded",
   "metadata": {},
   "source": [
    "### Utilized sourdough starter"
   ]
  },
  {
   "cell_type": "markdown",
   "id": "aa54e8fb-a24b-4981-9bce-bbf9235ebd2a",
   "metadata": {},
   "source": [
    "#### For baking"
   ]
  },
  {
   "cell_type": "code",
   "execution_count": 102,
   "id": "ddba11d4-8662-49a1-8062-438770af68ee",
   "metadata": {},
   "outputs": [],
   "source": [
    "used_for_bread = baked_bread[['baking_date', 'used_starter']]"
   ]
  },
  {
   "cell_type": "code",
   "execution_count": 103,
   "id": "4d78d5ca-3728-4d12-acd9-eeedad3a3089",
   "metadata": {},
   "outputs": [
    {
     "name": "stderr",
     "output_type": "stream",
     "text": [
      "/var/folders/mm/p2dqwhz10d1dvvs017_jlpb80000gn/T/ipykernel_2233/4108514966.py:1: SettingWithCopyWarning: \n",
      "A value is trying to be set on a copy of a slice from a DataFrame\n",
      "\n",
      "See the caveats in the documentation: https://pandas.pydata.org/pandas-docs/stable/user_guide/indexing.html#returning-a-view-versus-a-copy\n",
      "  used_for_bread.rename(columns={\n"
     ]
    }
   ],
   "source": [
    "used_for_bread.rename(columns={\n",
    "    'baking_date':'date',\n",
    "    'used_starter':'delta_starter'\n",
    "}, inplace=True)"
   ]
  },
  {
   "cell_type": "code",
   "execution_count": 104,
   "id": "8bb2aeb3-b9cd-4f9f-9d9a-74f71290fbf3",
   "metadata": {},
   "outputs": [
    {
     "name": "stderr",
     "output_type": "stream",
     "text": [
      "/var/folders/mm/p2dqwhz10d1dvvs017_jlpb80000gn/T/ipykernel_2233/924016032.py:1: SettingWithCopyWarning: \n",
      "A value is trying to be set on a copy of a slice from a DataFrame.\n",
      "Try using .loc[row_indexer,col_indexer] = value instead\n",
      "\n",
      "See the caveats in the documentation: https://pandas.pydata.org/pandas-docs/stable/user_guide/indexing.html#returning-a-view-versus-a-copy\n",
      "  used_for_bread['delta_starter'] = used_for_bread['delta_starter']*(-1)\n"
     ]
    }
   ],
   "source": [
    "used_for_bread['delta_starter'] = used_for_bread['delta_starter']*(-1)"
   ]
  },
  {
   "cell_type": "code",
   "execution_count": 105,
   "id": "5f3d5a57-5f5d-417e-9068-7f76d4f9d386",
   "metadata": {},
   "outputs": [
    {
     "data": {
      "text/html": [
       "<div>\n",
       "<style scoped>\n",
       "    .dataframe tbody tr th:only-of-type {\n",
       "        vertical-align: middle;\n",
       "    }\n",
       "\n",
       "    .dataframe tbody tr th {\n",
       "        vertical-align: top;\n",
       "    }\n",
       "\n",
       "    .dataframe thead th {\n",
       "        text-align: right;\n",
       "    }\n",
       "</style>\n",
       "<table border=\"1\" class=\"dataframe\">\n",
       "  <thead>\n",
       "    <tr style=\"text-align: right;\">\n",
       "      <th></th>\n",
       "      <th>date</th>\n",
       "      <th>delta_starter</th>\n",
       "    </tr>\n",
       "  </thead>\n",
       "  <tbody>\n",
       "    <tr>\n",
       "      <th>0</th>\n",
       "      <td>2022-08-13</td>\n",
       "      <td>-10</td>\n",
       "    </tr>\n",
       "    <tr>\n",
       "      <th>1</th>\n",
       "      <td>2022-09-18</td>\n",
       "      <td>-20</td>\n",
       "    </tr>\n",
       "    <tr>\n",
       "      <th>2</th>\n",
       "      <td>2022-10-23</td>\n",
       "      <td>-15</td>\n",
       "    </tr>\n",
       "    <tr>\n",
       "      <th>3</th>\n",
       "      <td>2022-11-01</td>\n",
       "      <td>-10</td>\n",
       "    </tr>\n",
       "    <tr>\n",
       "      <th>4</th>\n",
       "      <td>2022-12-14</td>\n",
       "      <td>-30</td>\n",
       "    </tr>\n",
       "  </tbody>\n",
       "</table>\n",
       "</div>"
      ],
      "text/plain": [
       "        date  delta_starter\n",
       "0 2022-08-13            -10\n",
       "1 2022-09-18            -20\n",
       "2 2022-10-23            -15\n",
       "3 2022-11-01            -10\n",
       "4 2022-12-14            -30"
      ]
     },
     "execution_count": 105,
     "metadata": {},
     "output_type": "execute_result"
    }
   ],
   "source": [
    "used_for_bread"
   ]
  },
  {
   "cell_type": "markdown",
   "id": "d50633fc-6e75-4add-986a-c779650ef431",
   "metadata": {},
   "source": [
    "#### Leftover from feeding"
   ]
  },
  {
   "cell_type": "code",
   "execution_count": 106,
   "id": "a374299a-76e2-4d51-b82a-0cb44e87f543",
   "metadata": {},
   "outputs": [],
   "source": [
    "old_dough = feedings[['feeding_date']]"
   ]
  },
  {
   "cell_type": "code",
   "execution_count": 107,
   "id": "7b4f1a02-3594-4488-89b5-ec6d74a80725",
   "metadata": {},
   "outputs": [
    {
     "name": "stderr",
     "output_type": "stream",
     "text": [
      "/var/folders/mm/p2dqwhz10d1dvvs017_jlpb80000gn/T/ipykernel_2233/1372661557.py:1: SettingWithCopyWarning: \n",
      "A value is trying to be set on a copy of a slice from a DataFrame\n",
      "\n",
      "See the caveats in the documentation: https://pandas.pydata.org/pandas-docs/stable/user_guide/indexing.html#returning-a-view-versus-a-copy\n",
      "  old_dough.rename(columns={'feeding_date':'date'}, inplace=True)\n"
     ]
    }
   ],
   "source": [
    "old_dough.rename(columns={'feeding_date':'date'}, inplace=True)"
   ]
  },
  {
   "cell_type": "code",
   "execution_count": 108,
   "id": "b70c1347-d5c9-428b-a3fa-2761d52432c5",
   "metadata": {},
   "outputs": [
    {
     "name": "stderr",
     "output_type": "stream",
     "text": [
      "/var/folders/mm/p2dqwhz10d1dvvs017_jlpb80000gn/T/ipykernel_2233/680216621.py:2: SettingWithCopyWarning: \n",
      "A value is trying to be set on a copy of a slice from a DataFrame.\n",
      "Try using .loc[row_indexer,col_indexer] = value instead\n",
      "\n",
      "See the caveats in the documentation: https://pandas.pydata.org/pandas-docs/stable/user_guide/indexing.html#returning-a-view-versus-a-copy\n",
      "  old_dough['delta_starter'] = 90\n"
     ]
    }
   ],
   "source": [
    "# assuming a use of 10g for the new starter and a loss of 10g\n",
    "old_dough['delta_starter'] = 90"
   ]
  },
  {
   "cell_type": "markdown",
   "id": "82fcc10a-381a-40f7-a592-3153a456ce7a",
   "metadata": {},
   "source": [
    "#### Recycle utilizations"
   ]
  },
  {
   "cell_type": "code",
   "execution_count": 109,
   "id": "1f6b5dde-987a-471d-899f-108e8da50971",
   "metadata": {},
   "outputs": [],
   "source": [
    "recyled_dough = pd.read_parquet(PATH + 'recycled_dough.parquet')"
   ]
  },
  {
   "cell_type": "markdown",
   "id": "72247266-7e82-4440-9684-90a49f600df9",
   "metadata": {},
   "source": [
    "#### Total"
   ]
  },
  {
   "cell_type": "code",
   "execution_count": 110,
   "id": "b1ae2c4c-4a9f-46ed-829a-f70c9686a68e",
   "metadata": {},
   "outputs": [],
   "source": [
    "left_over = pd.concat([used_for_bread, old_dough, recyled_dough], ignore_index=True)"
   ]
  },
  {
   "cell_type": "code",
   "execution_count": 111,
   "id": "66aec1f3-4f44-4791-86d4-1ce258658235",
   "metadata": {},
   "outputs": [],
   "source": [
    "left_over['date'] = pd.to_datetime(left_over['date'])"
   ]
  },
  {
   "cell_type": "code",
   "execution_count": 112,
   "id": "a5d5b700-52ae-4938-a860-94e9753e1b24",
   "metadata": {},
   "outputs": [],
   "source": [
    "left_over.sort_values(by='date', inplace=True)"
   ]
  },
  {
   "cell_type": "code",
   "execution_count": 113,
   "id": "d7e4017e-b02d-45e1-aac6-dd84fd8ec51d",
   "metadata": {},
   "outputs": [],
   "source": [
    "left_over['recycling_happened'] = left_over['recycling_happened'].fillna(False)"
   ]
  },
  {
   "cell_type": "code",
   "execution_count": 114,
   "id": "735bc08f-5e4d-4bae-84e5-c8d23e486e30",
   "metadata": {},
   "outputs": [],
   "source": [
    "left_over.reset_index(inplace=True, drop=True)"
   ]
  },
  {
   "cell_type": "code",
   "execution_count": 115,
   "id": "63bc5f85-3dc7-427c-81c5-20a61ce7d33f",
   "metadata": {},
   "outputs": [],
   "source": [
    "total_dough = []\n",
    "cumsum = 0\n",
    "for index, row in left_over.iterrows():\n",
    "    if row['recycling_happened'] == False:\n",
    "        cumsum = cumsum + row['delta_starter'] \n",
    "        total_dough.append(cumsum)\n",
    "    else:\n",
    "        cumsum = 0\n",
    "        total_dough.append(cumsum)"
   ]
  },
  {
   "cell_type": "code",
   "execution_count": 116,
   "id": "e7ce6791-278f-4e89-b6fb-90ac68702b7e",
   "metadata": {},
   "outputs": [],
   "source": [
    "left_over['total_dough'] = total_dough"
   ]
  },
  {
   "cell_type": "code",
   "execution_count": null,
   "id": "753f5d25-c859-473f-b605-6b5346af9902",
   "metadata": {},
   "outputs": [],
   "source": []
  },
  {
   "cell_type": "markdown",
   "id": "104f7a0d-56d2-40f9-83a8-c16234f8cd97",
   "metadata": {},
   "source": [
    "### Bread experiments TODO"
   ]
  },
  {
   "cell_type": "markdown",
   "id": "c9a5a149-a469-4df8-b53a-4953544d0db3",
   "metadata": {},
   "source": [
    "**TODO**\n",
    "* Vorgehen + Modifikation + Resultat + Experimentbasis (Brot) "
   ]
  },
  {
   "cell_type": "code",
   "execution_count": null,
   "id": "37005a02-1ef1-4cad-9d6d-969d5338f48a",
   "metadata": {},
   "outputs": [],
   "source": []
  },
  {
   "cell_type": "markdown",
   "id": "c42df0ea-b612-4449-acb5-ffe2dfe95840",
   "metadata": {},
   "source": [
    "# KPIs"
   ]
  },
  {
   "cell_type": "markdown",
   "id": "e6b701e8-e3e5-4a34-afd8-c33d1021c082",
   "metadata": {},
   "source": [
    "## Bread"
   ]
  },
  {
   "cell_type": "markdown",
   "id": "b16d1158-4af9-467f-b3a4-b6fbb7087bd8",
   "metadata": {},
   "source": [
    "**Top 3 breads**"
   ]
  },
  {
   "cell_type": "code",
   "execution_count": 117,
   "id": "f331b459-bf3f-4617-bf42-24903d2d9202",
   "metadata": {},
   "outputs": [
    {
     "data": {
      "text/plain": [
       "1    Italienisches Landbrot\n",
       "3                   Neptune\n",
       "0               Dinkelsonni\n",
       "Name: bread_name, dtype: object"
      ]
     },
     "execution_count": 117,
     "metadata": {},
     "output_type": "execute_result"
    }
   ],
   "source": [
    "baked_bread.sort_values(by='bread_rating', ascending=False)['bread_name'].head(3)"
   ]
  },
  {
   "cell_type": "code",
   "execution_count": null,
   "id": "80b6cd3c-74ce-4f52-b936-f41c4519c4b1",
   "metadata": {},
   "outputs": [],
   "source": []
  },
  {
   "cell_type": "markdown",
   "id": "38faa4c3-f379-420b-8e51-916cc1c54b99",
   "metadata": {},
   "source": [
    "**Baked breads**"
   ]
  },
  {
   "cell_type": "code",
   "execution_count": 118,
   "id": "e0db4a36-d1ff-4515-a3bd-3a0694c5e789",
   "metadata": {},
   "outputs": [
    {
     "data": {
      "text/plain": [
       "5"
      ]
     },
     "execution_count": 118,
     "metadata": {},
     "output_type": "execute_result"
    }
   ],
   "source": [
    "len(baked_bread)"
   ]
  },
  {
   "cell_type": "code",
   "execution_count": null,
   "id": "6ae24cee-61ea-4375-b717-c3fa0d92bf6d",
   "metadata": {},
   "outputs": [],
   "source": []
  },
  {
   "cell_type": "markdown",
   "id": "aab4298a-c22b-4d23-810a-16adaf70ec19",
   "metadata": {},
   "source": [
    "**Relevant factors**"
   ]
  },
  {
   "cell_type": "code",
   "execution_count": null,
   "id": "cbc03b8a-d09b-426f-a933-7c3793f3d5b7",
   "metadata": {},
   "outputs": [],
   "source": []
  },
  {
   "cell_type": "markdown",
   "id": "478890c7-feef-42cc-836e-38ad0d4e8f4d",
   "metadata": {},
   "source": [
    "## Sourdough"
   ]
  },
  {
   "cell_type": "markdown",
   "id": "62ee721f-06b5-4076-9386-2fc8ee84143e",
   "metadata": {},
   "source": [
    "**Current bacteria dominance**"
   ]
  },
  {
   "cell_type": "code",
   "execution_count": 119,
   "id": "b093287f-d3a6-48d3-b7da-77e3dd29de38",
   "metadata": {},
   "outputs": [
    {
     "data": {
      "text/plain": [
       "21    none\n",
       "Name: bacteria_composition, dtype: object"
      ]
     },
     "execution_count": 119,
     "metadata": {},
     "output_type": "execute_result"
    }
   ],
   "source": [
    "feedings['bacteria_composition'].tail(1)"
   ]
  },
  {
   "cell_type": "code",
   "execution_count": null,
   "id": "fa77034b-8de4-4417-b12b-c3cc56035014",
   "metadata": {},
   "outputs": [],
   "source": []
  },
  {
   "cell_type": "markdown",
   "id": "04564921-1933-44a1-9d3e-bd0c56f1b822",
   "metadata": {},
   "source": [
    "## Leftovers"
   ]
  },
  {
   "cell_type": "markdown",
   "id": "364d4b9d-b2be-4dae-825c-bc44c66a3d40",
   "metadata": {},
   "source": [
    "**TODO**\n",
    "* turn into function"
   ]
  },
  {
   "cell_type": "code",
   "execution_count": 120,
   "id": "d6b256e9-c278-417a-bf60-d5177d6ddb0f",
   "metadata": {},
   "outputs": [
    {
     "name": "stdout",
     "output_type": "stream",
     "text": [
      "You have 90.0g of starter leftover.\n"
     ]
    }
   ],
   "source": [
    "if left_over.iloc[-1, 1] > 200:\n",
    "    print('Time to get creative! You have ' + str(left_over.iloc[-1, 1]) + 'g of starter leftover.')\n",
    "else:\n",
    "    print('You have ' + str(left_over.iloc[-1, 1]) + 'g of starter leftover.')"
   ]
  },
  {
   "cell_type": "code",
   "execution_count": null,
   "id": "29adaa93-f962-4df3-90dd-385df5e031ba",
   "metadata": {},
   "outputs": [],
   "source": []
  },
  {
   "cell_type": "code",
   "execution_count": null,
   "id": "b0104e56-0389-4c62-ac54-b36e50a0e22d",
   "metadata": {},
   "outputs": [],
   "source": []
  },
  {
   "cell_type": "markdown",
   "id": "d03552b4-7f98-41f9-b374-7c586a425f3c",
   "metadata": {},
   "source": [
    "# Plots"
   ]
  },
  {
   "cell_type": "markdown",
   "id": "c26aa736-c925-4922-bc95-b821099d93cf",
   "metadata": {},
   "source": [
    "## Bread"
   ]
  },
  {
   "cell_type": "code",
   "execution_count": 121,
   "id": "60ee3a10-ea08-4c6b-a918-e74880d827f0",
   "metadata": {},
   "outputs": [
    {
     "data": {
      "image/png": "[encoded data removed]",
      "text/plain": [
       "<Figure size 720x360 with 1 Axes>"
      ]
     },
     "metadata": {
      "needs_background": "light"
     },
     "output_type": "display_data"
    }
   ],
   "source": [
    "sns.displot(\n",
    "    data=baked_bread.groupby(pd.Grouper(key=\"baking_date\", freq=\"M\"))[\n",
    "        \"bread_rating\"\n",
    "    ].mean(),\n",
    "    x=\"baking_date\",\n",
    "    height=5,\n",
    "    aspect=2,\n",
    ").set(title='Baked breads per month');"
   ]
  },
  {
   "cell_type": "code",
   "execution_count": 122,
   "id": "9d50d3f5-d784-4683-b96f-9d54c849cc4d",
   "metadata": {},
   "outputs": [
    {
     "data": {
      "image/png": "[encoded data removed]",
      "text/plain": [
       "<Figure size 1080x360 with 1 Axes>"
      ]
     },
     "metadata": {},
     "output_type": "display_data"
    }
   ],
   "source": [
    "sns.set(rc={'figure.figsize':(15,5)})\n",
    "sns.lineplot(data=baked_bread, x='baking_date', y='bread_rating'\n",
    ").set(title='Bread rating');"
   ]
  },
  {
   "cell_type": "markdown",
   "id": "99496c96-435b-4401-ace1-2932a708379e",
   "metadata": {},
   "source": [
    "## Feeding"
   ]
  },
  {
   "cell_type": "code",
   "execution_count": 123,
   "id": "decd7c4f-c789-4db3-ac1e-9bcb450e3acb",
   "metadata": {},
   "outputs": [
    {
     "data": {
      "image/png": "[encoded data removed]",
      "text/plain": [
       "<Figure size 720x360 with 1 Axes>"
      ]
     },
     "metadata": {},
     "output_type": "display_data"
    }
   ],
   "source": [
    "sns.relplot(data=feedings, x=\"temperature\", y=\"growth_rate_per_hour\", kind=\"line\", height=5, aspect=2).set(\n",
    "    title=\"Growth dependence from temperature\"\n",
    ");"
   ]
  },
  {
   "cell_type": "code",
   "execution_count": 124,
   "id": "c34acd20-c40a-4004-ae19-f507114dc67b",
   "metadata": {},
   "outputs": [
    {
     "data": {
      "image/png": "[encoded data removed]",
      "text/plain": [
       "<Figure size 720x360 with 1 Axes>"
      ]
     },
     "metadata": {},
     "output_type": "display_data"
    }
   ],
   "source": [
    "sns.lmplot(data=feedings, x='temperature', y='growth_rate_per_hour', height=5, aspect=2).set(\n",
    "    title=\"Growth dependence from temperature\"\n",
    ");"
   ]
  },
  {
   "cell_type": "code",
   "execution_count": 125,
   "id": "e26474f8-d467-4a36-9c4e-e38e8b7c1647",
   "metadata": {},
   "outputs": [
    {
     "data": {
      "image/png": "[encoded data removed]",
      "text/plain": [
       "<Figure size 720x360 with 1 Axes>"
      ]
     },
     "metadata": {},
     "output_type": "display_data"
    }
   ],
   "source": [
    "sns.relplot(data=feedings, x='temperature', y='bubble_size', kind='line',  height=5, aspect=2).set(\n",
    "    title=\"Bubble size dependence from temperature\"\n",
    ");"
   ]
  },
  {
   "cell_type": "code",
   "execution_count": 126,
   "id": "3880c091-db5e-4127-b308-06807a57c539",
   "metadata": {},
   "outputs": [
    {
     "data": {
      "image/png": "[encoded data removed]",
      "text/plain": [
       "<Figure size 720x360 with 1 Axes>"
      ]
     },
     "metadata": {},
     "output_type": "display_data"
    }
   ],
   "source": [
    "sns.lmplot(data=feedings, x='temperature', y='bubble_size', height=5, aspect=2).set(\n",
    "    title=\"Bubble size dependence from temperature\"\n",
    ");"
   ]
  },
  {
   "cell_type": "code",
   "execution_count": 127,
   "id": "741d44ae-6f95-4574-b3ab-f85b6d1d2d63",
   "metadata": {},
   "outputs": [
    {
     "data": {
      "image/png": "[encoded data removed]",
      "text/plain": [
       "<Figure size 360x360 with 1 Axes>"
      ]
     },
     "metadata": {},
     "output_type": "display_data"
    }
   ],
   "source": [
    "sns.catplot(data=feedings, x='bacteria_composition', y='growth_rate', kind='boxen');"
   ]
  },
  {
   "cell_type": "code",
   "execution_count": null,
   "id": "949385af-6eb9-4dc2-b1cb-6fc7f98ae938",
   "metadata": {},
   "outputs": [],
   "source": []
  },
  {
   "cell_type": "code",
   "execution_count": null,
   "id": "56d09d6d-ef8c-4bef-81b4-7945a6324877",
   "metadata": {},
   "outputs": [],
   "source": []
  },
  {
   "cell_type": "code",
   "execution_count": null,
   "id": "ac346c81-32ec-444a-b858-061a6051c44a",
   "metadata": {},
   "outputs": [],
   "source": []
  }
 ],
 "metadata": {
  "kernelspec": {
   "display_name": "Python 3 (ipykernel)",
   "language": "python",
   "name": "python3"
  },
  "language_info": {
   "codemirror_mode": {
    "name": "ipython",
    "version": 3
   },
   "file_extension": ".py",
   "mimetype": "text/x-python",
   "name": "python",
   "nbconvert_exporter": "python",
   "pygments_lexer": "ipython3",
   "version": "3.9.13"
  }
 },
 "nbformat": 4,
 "nbformat_minor": 5
}
