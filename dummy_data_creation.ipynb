{
 "cells": [
  {
   "cell_type": "markdown",
   "id": "480efa51-f4eb-4817-b8af-474a7c7736ba",
   "metadata": {},
   "source": [
    "# Environment"
   ]
  },
  {
   "cell_type": "code",
   "execution_count": 1,
   "id": "8d794ed5-a4df-4bd6-b8ec-716e0cf31792",
   "metadata": {},
   "outputs": [],
   "source": [
    "%load_ext blackcellmagic"
   ]
  },
  {
   "cell_type": "code",
   "execution_count": 2,
   "id": "40e8bfd9-3561-48ee-bdb7-b4bab1f28c08",
   "metadata": {},
   "outputs": [],
   "source": [
    "import pandas as pd\n",
    "import seaborn as sns\n",
    "import numpy as np"
   ]
  },
  {
   "cell_type": "markdown",
   "id": "3820a40b-42d4-4378-bd90-8d3eece7a827",
   "metadata": {},
   "source": [
    "## Variables"
   ]
  },
  {
   "cell_type": "raw",
   "id": "5d31e334-342f-415a-bd8b-eedec3aec3b4",
   "metadata": {},
   "source": [
    "TODAY = pd.Timestamp.today().strftime('%Y-%m-%d')"
   ]
  },
  {
   "cell_type": "code",
   "execution_count": 3,
   "id": "991275f3-dac4-4cdf-9e28-053ed5835fe9",
   "metadata": {},
   "outputs": [],
   "source": [
    "TODAY = pd.Timestamp('2022-12-18').strftime('%Y-%m-%d')"
   ]
  },
  {
   "cell_type": "code",
   "execution_count": 4,
   "id": "8cae8d33-e189-4847-ab22-059c6d610114",
   "metadata": {},
   "outputs": [],
   "source": [
    "PATH = ('/Users/admin/Documents/GitHub/keeprising/data/')"
   ]
  },
  {
   "cell_type": "code",
   "execution_count": null,
   "id": "4afe8b3d-d37a-4df5-8529-200f181e4c36",
   "metadata": {},
   "outputs": [],
   "source": []
  },
  {
   "cell_type": "markdown",
   "id": "9449b3a2-2d85-4cea-889c-e16fe5f94c2e",
   "metadata": {},
   "source": [
    "# Sourdough feeding data\n",
    "creating a more or less true history"
   ]
  },
  {
   "cell_type": "markdown",
   "id": "114b5222-36e7-483f-b439-86a714eaed0c",
   "metadata": {
    "tags": []
   },
   "source": [
    "## Feeding dates"
   ]
  },
  {
   "cell_type": "code",
   "execution_count": 5,
   "id": "36869f5e-24a6-4f6a-89fc-84c9b8b869ba",
   "metadata": {},
   "outputs": [],
   "source": [
    "\n",
    "past_feeding_dates = pd.date_range(start='2022-07-24', end='2022-12-11', freq='7D')"
   ]
  },
  {
   "cell_type": "code",
   "execution_count": 6,
   "id": "8f9a5157-6dd9-4fb3-9616-22ee7cb8defc",
   "metadata": {},
   "outputs": [],
   "source": [
    "feeding_dates = []"
   ]
  },
  {
   "cell_type": "code",
   "execution_count": 7,
   "id": "b7ae91f4-7875-4c18-885d-c69796866ae2",
   "metadata": {},
   "outputs": [],
   "source": [
    "for i in past_feeding_dates:\n",
    "  feeding_dates.append(i.strftime('%Y-%m-%d'))"
   ]
  },
  {
   "cell_type": "markdown",
   "id": "f885713f-c439-48f7-8949-fff78cae822c",
   "metadata": {},
   "source": [
    "## Temperature"
   ]
  },
  {
   "cell_type": "code",
   "execution_count": 8,
   "id": "8d7946ef-839f-460c-bcb7-4be7d735fcc8",
   "metadata": {},
   "outputs": [],
   "source": [
    "temperature = [22, 22, 22, 22, 23, 21, 21, 21, 20, 20, \n",
    "               20, 20, 19, 19, 20, 19, 18, 18, 19, 19, 18]"
   ]
  },
  {
   "cell_type": "markdown",
   "id": "79c0366d-9760-4156-9a83-0286a76766fd",
   "metadata": {},
   "source": [
    "## Time"
   ]
  },
  {
   "cell_type": "code",
   "execution_count": 9,
   "id": "0a8c161e-80ed-4256-bd40-29af5990f202",
   "metadata": {},
   "outputs": [],
   "source": [
    "feeding_time = [8, 7,8,8,9,9,9,8,8,9,12,9,10,8,8,9,9,10,9,10,10]"
   ]
  },
  {
   "cell_type": "markdown",
   "id": "7e4c009d-1a87-460e-93a4-b749a7338819",
   "metadata": {},
   "source": [
    "## Growth"
   ]
  },
  {
   "cell_type": "code",
   "execution_count": 10,
   "id": "aeac8a53-2968-4ce2-b5b8-a7e6163029af",
   "metadata": {},
   "outputs": [],
   "source": [
    "initial_height = [2.2, 2.4, 2.7, 2.1, 2.8, 2.6, 2.9, 2.4, 2.1, 2.2,\n",
    "                  2.4, 2.2, 2.9, 2.5, 2.6, 2.9, 2.4, 2.7, 2.0, 2.7, 2.6]"
   ]
  },
  {
   "cell_type": "code",
   "execution_count": 11,
   "id": "20cd09e3-f46d-4b27-955e-a3835591a2e6",
   "metadata": {},
   "outputs": [],
   "source": [
    "end_height = [7.2, 7.8, 7.9, 6.3, 6.1, 7.5, 6.6, 6.6, 6.1, 7.1,\n",
    "              7.8, 6.6, 7.3, 7.9, 7.5, 6.5, 6.9, 6.1, 6.2, 7.0, 6.6]"
   ]
  },
  {
   "cell_type": "markdown",
   "id": "362dac44-947e-4598-a4fd-f68cf6146467",
   "metadata": {},
   "source": [
    "## Bubbles"
   ]
  },
  {
   "cell_type": "code",
   "execution_count": 12,
   "id": "5b9033cc-5eec-4184-a53f-30bfd1c6d107",
   "metadata": {},
   "outputs": [],
   "source": [
    "bubble_size = [0.2, 0.4, 0.3, 0.2, 0.1, 0.1, 0.4, 0.1, 0.3, 0.2, 0.4, 0.2, 0.1,\n",
    "        0.3, 0.4, 0.2, 0.1, 0.1, 0.4, 0.4, 0.2]"
   ]
  },
  {
   "cell_type": "markdown",
   "id": "57c17866-5a8f-4e3c-9895-85ffbc3b8158",
   "metadata": {
    "tags": []
   },
   "source": [
    "## df"
   ]
  },
  {
   "cell_type": "code",
   "execution_count": 13,
   "id": "fb137f84-ffb8-48e3-a8a6-b6b6ea612004",
   "metadata": {},
   "outputs": [],
   "source": [
    "feedings_dict = {\n",
    "    'feeding_date':feeding_dates, \n",
    "    'temperature':temperature,\n",
    "    'feeding_time':feeding_time,\n",
    "    'initial_height':initial_height,\n",
    "    'end_height':end_height,\n",
    "    'bubble_size':bubble_size\n",
    "}"
   ]
  },
  {
   "cell_type": "code",
   "execution_count": 14,
   "id": "4a2e54c9-0f9a-4b3d-96d7-457f872a3216",
   "metadata": {},
   "outputs": [],
   "source": [
    "feedings = pd.DataFrame(data=feedings_dict)"
   ]
  },
  {
   "cell_type": "code",
   "execution_count": 15,
   "id": "d998249f-d1e5-4d45-9f73-a54efd5ea62b",
   "metadata": {},
   "outputs": [],
   "source": [
    "feedings.to_parquet(PATH + 'feedings.parquet')"
   ]
  },
  {
   "cell_type": "code",
   "execution_count": null,
   "id": "c36116fa-4b00-48e7-804a-085a156407c7",
   "metadata": {},
   "outputs": [],
   "source": []
  },
  {
   "cell_type": "markdown",
   "id": "d6409d67-44bb-48b9-88b3-309d2c5c0863",
   "metadata": {},
   "source": [
    "# Utilization"
   ]
  },
  {
   "cell_type": "markdown",
   "id": "78895c21-1e5c-44cb-9c01-c97444b4b08b",
   "metadata": {},
   "source": [
    "**TODO**\n",
    "* create a suggestion table for suitable recipes\n",
    "* store dfs and use new df for concat"
   ]
  },
  {
   "cell_type": "markdown",
   "id": "ad5e8399-2912-49cc-9b44-20ce06170642",
   "metadata": {},
   "source": [
    "## Baked breads"
   ]
  },
  {
   "cell_type": "code",
   "execution_count": 16,
   "id": "78b0f2ab-2f10-4fe7-aa8c-4bf34b318026",
   "metadata": {},
   "outputs": [],
   "source": [
    "bread_name = ['Dinkelsonni', 'Italienisches Landbrot', 'Hausbrot', 'Neptune']"
   ]
  },
  {
   "cell_type": "code",
   "execution_count": 17,
   "id": "dba0c487-c589-4684-8357-fd921db1475d",
   "metadata": {},
   "outputs": [],
   "source": [
    "baking_date = ['2022-08-13', '2022-09-18', '2022-10-23', '2022-11-01']"
   ]
  },
  {
   "cell_type": "code",
   "execution_count": 18,
   "id": "9409f40c-f738-412d-b933-7edd8de6e6f6",
   "metadata": {},
   "outputs": [],
   "source": [
    "bread_rating = [4, 5, 4, 5]"
   ]
  },
  {
   "cell_type": "code",
   "execution_count": 19,
   "id": "b037570d-ca8f-474f-a4fa-b78295d98356",
   "metadata": {},
   "outputs": [],
   "source": [
    "used_starter = [10, 20, 15, 10]"
   ]
  },
  {
   "cell_type": "code",
   "execution_count": 20,
   "id": "10c5b0f8-6df6-4465-91d4-f1e00ec17157",
   "metadata": {},
   "outputs": [],
   "source": [
    "baked_bread_dict = {\n",
    "    'bread_name':bread_name,\n",
    "    'baking_date':baking_date,\n",
    "    'bread_rating':bread_rating,\n",
    "    'used_starter':used_starter\n",
    "}"
   ]
  },
  {
   "cell_type": "code",
   "execution_count": 21,
   "id": "1f560efd-f27c-4f11-a5d1-6f68545eeeaf",
   "metadata": {},
   "outputs": [],
   "source": [
    "baked_bread = pd.DataFrame(data=baked_bread_dict)"
   ]
  },
  {
   "cell_type": "code",
   "execution_count": 22,
   "id": "e02be435-baeb-4267-8235-81ca96f224de",
   "metadata": {},
   "outputs": [],
   "source": [
    "baked_bread['baking_date'] = pd.to_datetime(baked_bread['baking_date'])"
   ]
  },
  {
   "cell_type": "code",
   "execution_count": 23,
   "id": "8efa21d7-8806-449f-9bc8-089c5fe8a1c6",
   "metadata": {},
   "outputs": [],
   "source": [
    "baked_bread.to_parquet(PATH + 'baked_bread.parquet')"
   ]
  },
  {
   "cell_type": "code",
   "execution_count": null,
   "id": "129eb751-d01a-46ee-b8d8-0b9f4d3e8225",
   "metadata": {},
   "outputs": [],
   "source": []
  },
  {
   "cell_type": "markdown",
   "id": "82fcc10a-381a-40f7-a592-3153a456ce7a",
   "metadata": {},
   "source": [
    "## Recycle utilizations"
   ]
  },
  {
   "cell_type": "code",
   "execution_count": 24,
   "id": "01a4ac8a-8f4d-4530-a2f2-a0dc9cca2ca8",
   "metadata": {},
   "outputs": [],
   "source": [
    "recycling_date = ['2022-09-13', '2022-10-18', '2022-11-23', '2022-12-01']"
   ]
  },
  {
   "cell_type": "code",
   "execution_count": 25,
   "id": "b535ccc8-1d2f-4ae4-bce4-11eafe4cd8e5",
   "metadata": {},
   "outputs": [],
   "source": [
    "recyling = [True, True, True, True]"
   ]
  },
  {
   "cell_type": "code",
   "execution_count": 26,
   "id": "b92047f3-50d8-428a-ab3e-b765a4ffcdbc",
   "metadata": {},
   "outputs": [],
   "source": [
    "recyled_dough_dict = {\n",
    "    'date':recycling_date,\n",
    "    'recycling_happened':recyling\n",
    "}"
   ]
  },
  {
   "cell_type": "code",
   "execution_count": 27,
   "id": "ee2d545a-0cb1-490b-89b2-79b64e97aa0b",
   "metadata": {},
   "outputs": [],
   "source": [
    "recyled_dough = pd.DataFrame(data=recyled_dough_dict)"
   ]
  },
  {
   "cell_type": "code",
   "execution_count": 28,
   "id": "944c9278-5345-47df-a600-129242633e98",
   "metadata": {},
   "outputs": [],
   "source": [
    "recyled_dough.to_parquet(PATH + 'recycled_dough.parquet')"
   ]
  },
  {
   "cell_type": "code",
   "execution_count": null,
   "id": "e6af87ae-0852-4e8b-9911-7b1b08c17491",
   "metadata": {},
   "outputs": [],
   "source": []
  },
  {
   "cell_type": "markdown",
   "id": "104f7a0d-56d2-40f9-83a8-c16234f8cd97",
   "metadata": {},
   "source": [
    "## Bread experiments TODO"
   ]
  },
  {
   "cell_type": "markdown",
   "id": "c9a5a149-a469-4df8-b53a-4953544d0db3",
   "metadata": {},
   "source": [
    "**TODO**\n",
    "* Vorgehen + Modifikation + Resultat + Experimentbasis (Brot) "
   ]
  },
  {
   "cell_type": "code",
   "execution_count": null,
   "id": "37005a02-1ef1-4cad-9d6d-969d5338f48a",
   "metadata": {},
   "outputs": [],
   "source": []
  }
 ],
 "metadata": {
  "kernelspec": {
   "display_name": "Python 3 (ipykernel)",
   "language": "python",
   "name": "python3"
  },
  "language_info": {
   "codemirror_mode": {
    "name": "ipython",
    "version": 3
   },
   "file_extension": ".py",
   "mimetype": "text/x-python",
   "name": "python",
   "nbconvert_exporter": "python",
   "pygments_lexer": "ipython3",
   "version": "3.9.12"
  }
 },
 "nbformat": 4,
 "nbformat_minor": 5
}
