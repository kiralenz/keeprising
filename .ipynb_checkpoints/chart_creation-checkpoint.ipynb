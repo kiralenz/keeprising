{
 "cells": [
  {
   "cell_type": "code",
   "execution_count": 71,
   "id": "8d794ed5-a4df-4bd6-b8ec-716e0cf31792",
   "metadata": {},
   "outputs": [],
   "source": [
    "%load_ext blackcellmagic"
   ]
  },
  {
   "cell_type": "code",
   "execution_count": 1,
   "id": "40e8bfd9-3561-48ee-bdb7-b4bab1f28c08",
   "metadata": {},
   "outputs": [],
   "source": [
    "import pandas as pd\n",
    "import seaborn as sns\n",
    "import numpy as np"
   ]
  },
  {
   "cell_type": "raw",
   "id": "5d31e334-342f-415a-bd8b-eedec3aec3b4",
   "metadata": {},
   "source": [
    "TODAY = pd.Timestamp.today().strftime('%Y-%m-%d')"
   ]
  },
  {
   "cell_type": "code",
   "execution_count": 2,
   "id": "991275f3-dac4-4cdf-9e28-053ed5835fe9",
   "metadata": {},
   "outputs": [],
   "source": [
    "TODAY = pd.Timestamp('2022-12-18').strftime('%Y-%m-%d')"
   ]
  },
  {
   "cell_type": "markdown",
   "id": "f01384dd-5767-4a3b-85e6-7b04f35c5ddb",
   "metadata": {},
   "source": [
    "# Data creation"
   ]
  },
  {
   "cell_type": "markdown",
   "id": "067c79f3-7ea5-4b09-a395-f7db29635978",
   "metadata": {},
   "source": [
    "**TODO**\n",
    "* create a new df for each feeding day and use a concat"
   ]
  },
  {
   "cell_type": "markdown",
   "id": "9449b3a2-2d85-4cea-889c-e16fe5f94c2e",
   "metadata": {},
   "source": [
    "## Sourdough feeding data"
   ]
  },
  {
   "cell_type": "markdown",
   "id": "114b5222-36e7-483f-b439-86a714eaed0c",
   "metadata": {
    "tags": []
   },
   "source": [
    "### Feeding dates"
   ]
  },
  {
   "cell_type": "code",
   "execution_count": 3,
   "id": "36869f5e-24a6-4f6a-89fc-84c9b8b869ba",
   "metadata": {},
   "outputs": [],
   "source": [
    "# creating a more or less true history\n",
    "past_feeding_dates = pd.date_range(start='2022-07-24', end='2022-12-11', freq='7D')"
   ]
  },
  {
   "cell_type": "code",
   "execution_count": 4,
   "id": "8f9a5157-6dd9-4fb3-9616-22ee7cb8defc",
   "metadata": {},
   "outputs": [],
   "source": [
    "feeding_dates = []"
   ]
  },
  {
   "cell_type": "code",
   "execution_count": 5,
   "id": "b7ae91f4-7875-4c18-885d-c69796866ae2",
   "metadata": {},
   "outputs": [],
   "source": [
    "for i in past_feeding_dates:\n",
    "  feeding_dates.append(i.strftime('%Y-%m-%d'))"
   ]
  },
  {
   "cell_type": "code",
   "execution_count": 6,
   "id": "58719e47-cf40-4ac3-b9df-9c52057dfa49",
   "metadata": {},
   "outputs": [],
   "source": [
    "feeding_dates.append(TODAY)"
   ]
  },
  {
   "cell_type": "markdown",
   "id": "f885713f-c439-48f7-8949-fff78cae822c",
   "metadata": {},
   "source": [
    "### Temperature"
   ]
  },
  {
   "cell_type": "code",
   "execution_count": 7,
   "id": "8d7946ef-839f-460c-bcb7-4be7d735fcc8",
   "metadata": {},
   "outputs": [],
   "source": [
    "temperature = [22, 22, 22, 22, 23, 21, 21, 21, 20, 20, 20, 20, 19, 19, 20, 19, 18, 18, 19, 19, 18]"
   ]
  },
  {
   "cell_type": "code",
   "execution_count": 8,
   "id": "4df9d77f-c8bf-4859-8710-10daf7f01fba",
   "metadata": {},
   "outputs": [],
   "source": [
    "temperature_today = 19"
   ]
  },
  {
   "cell_type": "code",
   "execution_count": 9,
   "id": "6d253ba4-6d32-424f-80c1-c2949f0534a0",
   "metadata": {},
   "outputs": [],
   "source": [
    "temperature.append(temperature_today)"
   ]
  },
  {
   "cell_type": "markdown",
   "id": "79c0366d-9760-4156-9a83-0286a76766fd",
   "metadata": {},
   "source": [
    "### Time"
   ]
  },
  {
   "cell_type": "code",
   "execution_count": 10,
   "id": "0a8c161e-80ed-4256-bd40-29af5990f202",
   "metadata": {},
   "outputs": [],
   "source": [
    "feeding_time = [8, 7,8,8,9,9,9,8,8,9,12,9,10,8,8,9,9,10,9,10,10]"
   ]
  },
  {
   "cell_type": "code",
   "execution_count": 11,
   "id": "5d959b2f-c8a1-429d-afdc-7808ee61d293",
   "metadata": {},
   "outputs": [],
   "source": [
    "feeding_time_today = 10"
   ]
  },
  {
   "cell_type": "code",
   "execution_count": 12,
   "id": "1c1fafa1-d6ec-4598-991d-4cb35fb89857",
   "metadata": {},
   "outputs": [],
   "source": [
    "feeding_time.append(feeding_time_today)"
   ]
  },
  {
   "cell_type": "markdown",
   "id": "7e4c009d-1a87-460e-93a4-b749a7338819",
   "metadata": {},
   "source": [
    "### Growth"
   ]
  },
  {
   "cell_type": "code",
   "execution_count": 13,
   "id": "aeac8a53-2968-4ce2-b5b8-a7e6163029af",
   "metadata": {},
   "outputs": [],
   "source": [
    "initial_height = [2.2, 2.4, 2.7, 2.1, 2.8, 2.6, 2.9, 2.4, 2.1, 2.2,\n",
    "                  2.4, 2.2, 2.9, 2.5, 2.6, 2.9, 2.4, 2.7, 2.0, 2.7, 2.6]"
   ]
  },
  {
   "cell_type": "code",
   "execution_count": 14,
   "id": "20cd09e3-f46d-4b27-955e-a3835591a2e6",
   "metadata": {},
   "outputs": [],
   "source": [
    "end_height = [7.2, 7.8, 7.9, 6.3, 6.1, 7.5, 6.6, 6.6, 6.1, 7.1,\n",
    "              7.8, 6.6, 7.3, 7.9, 7.5, 6.5, 6.9, 6.1, 6.2, 7.0, 6.6]"
   ]
  },
  {
   "cell_type": "code",
   "execution_count": 15,
   "id": "f216c4df-1af8-4d88-8d4a-1ecbd8924900",
   "metadata": {},
   "outputs": [],
   "source": [
    "initial_height_today = 2.9"
   ]
  },
  {
   "cell_type": "code",
   "execution_count": 16,
   "id": "fd77d496-03fb-42b2-af70-6bd7668c08f6",
   "metadata": {},
   "outputs": [],
   "source": [
    "end_height_today = 7.9"
   ]
  },
  {
   "cell_type": "code",
   "execution_count": 17,
   "id": "92bdcb0a-59ad-4bee-9d66-642d17c74cba",
   "metadata": {},
   "outputs": [],
   "source": [
    "initial_height.append(initial_height_today)"
   ]
  },
  {
   "cell_type": "code",
   "execution_count": 18,
   "id": "b0c9659b-e619-466c-9521-1cf0b9937786",
   "metadata": {},
   "outputs": [],
   "source": [
    "end_height.append(end_height_today)"
   ]
  },
  {
   "cell_type": "code",
   "execution_count": null,
   "id": "30f5d7e5-dad4-448c-ba65-c3eab7a0a9d9",
   "metadata": {},
   "outputs": [],
   "source": []
  },
  {
   "cell_type": "markdown",
   "id": "362dac44-947e-4598-a4fd-f68cf6146467",
   "metadata": {},
   "source": [
    "### Bubbles"
   ]
  },
  {
   "cell_type": "code",
   "execution_count": 19,
   "id": "5b9033cc-5eec-4184-a53f-30bfd1c6d107",
   "metadata": {},
   "outputs": [],
   "source": [
    "bubble_size = [0.2, 0.4, 0.3, 0.2, 0.1, 0.1, 0.4, 0.1, 0.3, 0.2, 0.4, 0.2, 0.1,\n",
    "        0.3, 0.4, 0.2, 0.1, 0.1, 0.4, 0.4, 0.2]"
   ]
  },
  {
   "cell_type": "code",
   "execution_count": 20,
   "id": "f5ad5577-567a-4ca4-97c6-0ff9e927a501",
   "metadata": {},
   "outputs": [],
   "source": [
    "bubble_size_today = 0.3"
   ]
  },
  {
   "cell_type": "code",
   "execution_count": 21,
   "id": "7c22744a-a255-419c-af49-e5309d230b70",
   "metadata": {},
   "outputs": [],
   "source": [
    "bubble_size.append(bubble_size_today)"
   ]
  },
  {
   "cell_type": "code",
   "execution_count": null,
   "id": "50f28857-e96b-4e0e-8aa2-5488e556fa8c",
   "metadata": {},
   "outputs": [],
   "source": []
  },
  {
   "cell_type": "markdown",
   "id": "57c17866-5a8f-4e3c-9895-85ffbc3b8158",
   "metadata": {
    "tags": []
   },
   "source": [
    "### df"
   ]
  },
  {
   "cell_type": "code",
   "execution_count": 22,
   "id": "fb137f84-ffb8-48e3-a8a6-b6b6ea612004",
   "metadata": {},
   "outputs": [],
   "source": [
    "feedings_dict = {\n",
    "    'feeding_date':feeding_dates, \n",
    "    'temperature':temperature,\n",
    "    'feeding_time':feeding_time,\n",
    "    'initial_height':initial_height,\n",
    "    'end_height':end_height,\n",
    "    'bubble_size':bubble_size\n",
    "}"
   ]
  },
  {
   "cell_type": "code",
   "execution_count": 23,
   "id": "4a2e54c9-0f9a-4b3d-96d7-457f872a3216",
   "metadata": {},
   "outputs": [],
   "source": [
    "feedings = pd.DataFrame(data=feedings_dict)"
   ]
  },
  {
   "cell_type": "markdown",
   "id": "38400966-3b70-4f8e-a261-175ea6e6fd41",
   "metadata": {},
   "source": [
    "## Data processing"
   ]
  },
  {
   "cell_type": "markdown",
   "id": "2d768ab9-d871-41ed-950a-47a76076691c",
   "metadata": {},
   "source": [
    "### Bacteria composition"
   ]
  },
  {
   "cell_type": "markdown",
   "id": "47a26590-d177-4bb5-bfb7-0b024c766b9a",
   "metadata": {},
   "source": [
    "**TODO**\n",
    "* improve bacteria composition"
   ]
  },
  {
   "cell_type": "code",
   "execution_count": 63,
   "id": "5a1bc5ca-dbac-42ab-9a97-293587771138",
   "metadata": {},
   "outputs": [],
   "source": [
    "bacteria_composition = pd.DataFrame({\n",
    "    'temperature':[20, 25,30, 35],\n",
    "    'dominant_microbes':['none', 'lactic acid bacteria', 'Acetic acid bacteria', 'sourdough yeast']\n",
    "})"
   ]
  },
  {
   "cell_type": "code",
   "execution_count": 64,
   "id": "b4c4775c-ff90-4e38-bf3a-4b881c5c9360",
   "metadata": {},
   "outputs": [
    {
     "data": {
      "text/html": [
       "<div>\n",
       "<style scoped>\n",
       "    .dataframe tbody tr th:only-of-type {\n",
       "        vertical-align: middle;\n",
       "    }\n",
       "\n",
       "    .dataframe tbody tr th {\n",
       "        vertical-align: top;\n",
       "    }\n",
       "\n",
       "    .dataframe thead th {\n",
       "        text-align: right;\n",
       "    }\n",
       "</style>\n",
       "<table border=\"1\" class=\"dataframe\">\n",
       "  <thead>\n",
       "    <tr style=\"text-align: right;\">\n",
       "      <th></th>\n",
       "      <th>temperature</th>\n",
       "      <th>dominant_microbes</th>\n",
       "    </tr>\n",
       "  </thead>\n",
       "  <tbody>\n",
       "    <tr>\n",
       "      <th>0</th>\n",
       "      <td>20</td>\n",
       "      <td>none</td>\n",
       "    </tr>\n",
       "    <tr>\n",
       "      <th>1</th>\n",
       "      <td>25</td>\n",
       "      <td>lactic acid bacteria</td>\n",
       "    </tr>\n",
       "    <tr>\n",
       "      <th>2</th>\n",
       "      <td>30</td>\n",
       "      <td>Acetic acid bacteria</td>\n",
       "    </tr>\n",
       "    <tr>\n",
       "      <th>3</th>\n",
       "      <td>35</td>\n",
       "      <td>sourdough yeast</td>\n",
       "    </tr>\n",
       "  </tbody>\n",
       "</table>\n",
       "</div>"
      ],
      "text/plain": [
       "   temperature     dominant_microbes\n",
       "0           20                  none\n",
       "1           25  lactic acid bacteria\n",
       "2           30  Acetic acid bacteria\n",
       "3           35       sourdough yeast"
      ]
     },
     "execution_count": 64,
     "metadata": {},
     "output_type": "execute_result"
    }
   ],
   "source": [
    "bacteria_composition"
   ]
  },
  {
   "cell_type": "code",
   "execution_count": null,
   "id": "70587d96-0ae4-461e-a2de-9133d54d1920",
   "metadata": {},
   "outputs": [],
   "source": []
  },
  {
   "cell_type": "code",
   "execution_count": 72,
   "id": "a99e0372-ea83-4c4c-8575-53e6e9f0b610",
   "metadata": {},
   "outputs": [],
   "source": [
    "feedings[\"bacteria_composition\"] = np.where(\n",
    "    feedings[\"temperature\"] <= 20,\n",
    "    bacteria_composition.loc[\n",
    "        bacteria_composition[\"temperature\"] == 20, \"dominant_microbes\"\n",
    "    ],\n",
    "    np.where(\n",
    "        ((feedings[\"temperature\"] > 20) & (feedings[\"temperature\"] <= 25)),\n",
    "        bacteria_composition.loc[\n",
    "            bacteria_composition[\"temperature\"] == 25, \"dominant_microbes\"\n",
    "        ],\n",
    "        np.where(\n",
    "            ((feedings[\"temperature\"] > 25) & (feedings[\"temperature\"] <= 30)),\n",
    "            bacteria_composition.loc[\n",
    "                bacteria_composition[\"temperature\"] == 30, \"dominant_microbes\"\n",
    "            ],\n",
    "            bacteria_composition.loc[\n",
    "                bacteria_composition[\"temperature\"] == 35, \"dominant_microbes\"\n",
    "            ],\n",
    "        ),\n",
    "    ),\n",
    ")"
   ]
  },
  {
   "cell_type": "markdown",
   "id": "4b69374a-d440-4d24-8367-a9f7bcfbe557",
   "metadata": {},
   "source": [
    "### Growth rate"
   ]
  },
  {
   "cell_type": "markdown",
   "id": "8d4f19cf-2806-477b-8ec1-2388f5cdfd60",
   "metadata": {},
   "source": [
    "**TODO**\n",
    "* calculate growth rate"
   ]
  },
  {
   "cell_type": "code",
   "execution_count": 76,
   "id": "bc579a88-63ef-4838-9e19-d2ddefc4508d",
   "metadata": {},
   "outputs": [],
   "source": [
    "feedings['growth_rate'] = feedings['end_height'] / feedings['initial_height']"
   ]
  },
  {
   "cell_type": "code",
   "execution_count": 79,
   "id": "e63d271e-12de-4492-8961-9d06fa574b4a",
   "metadata": {},
   "outputs": [],
   "source": [
    "feedings['growth_rate_per_hour'] = feedings['end_height'] / feedings['initial_height'] / feedings['feeding_time']"
   ]
  },
  {
   "cell_type": "code",
   "execution_count": 80,
   "id": "18452b4d-6a17-4e01-90bc-db11d019adb0",
   "metadata": {},
   "outputs": [
    {
     "data": {
      "text/html": [
       "<div>\n",
       "<style scoped>\n",
       "    .dataframe tbody tr th:only-of-type {\n",
       "        vertical-align: middle;\n",
       "    }\n",
       "\n",
       "    .dataframe tbody tr th {\n",
       "        vertical-align: top;\n",
       "    }\n",
       "\n",
       "    .dataframe thead th {\n",
       "        text-align: right;\n",
       "    }\n",
       "</style>\n",
       "<table border=\"1\" class=\"dataframe\">\n",
       "  <thead>\n",
       "    <tr style=\"text-align: right;\">\n",
       "      <th></th>\n",
       "      <th>feeding_date</th>\n",
       "      <th>temperature</th>\n",
       "      <th>feeding_time</th>\n",
       "      <th>initial_height</th>\n",
       "      <th>end_height</th>\n",
       "      <th>bubble_size</th>\n",
       "      <th>bacteria_composition</th>\n",
       "      <th>growth_rate</th>\n",
       "      <th>growth_rate_per_hour</th>\n",
       "    </tr>\n",
       "  </thead>\n",
       "  <tbody>\n",
       "    <tr>\n",
       "      <th>0</th>\n",
       "      <td>2022-07-24</td>\n",
       "      <td>22</td>\n",
       "      <td>8</td>\n",
       "      <td>2.2</td>\n",
       "      <td>7.2</td>\n",
       "      <td>0.2</td>\n",
       "      <td>lactic acid bacteria</td>\n",
       "      <td>3.272727</td>\n",
       "      <td>0.409091</td>\n",
       "    </tr>\n",
       "    <tr>\n",
       "      <th>1</th>\n",
       "      <td>2022-07-31</td>\n",
       "      <td>22</td>\n",
       "      <td>7</td>\n",
       "      <td>2.4</td>\n",
       "      <td>7.8</td>\n",
       "      <td>0.4</td>\n",
       "      <td>lactic acid bacteria</td>\n",
       "      <td>3.250000</td>\n",
       "      <td>0.464286</td>\n",
       "    </tr>\n",
       "    <tr>\n",
       "      <th>2</th>\n",
       "      <td>2022-08-07</td>\n",
       "      <td>22</td>\n",
       "      <td>8</td>\n",
       "      <td>2.7</td>\n",
       "      <td>7.9</td>\n",
       "      <td>0.3</td>\n",
       "      <td>lactic acid bacteria</td>\n",
       "      <td>2.925926</td>\n",
       "      <td>0.365741</td>\n",
       "    </tr>\n",
       "    <tr>\n",
       "      <th>3</th>\n",
       "      <td>2022-08-14</td>\n",
       "      <td>22</td>\n",
       "      <td>8</td>\n",
       "      <td>2.1</td>\n",
       "      <td>6.3</td>\n",
       "      <td>0.2</td>\n",
       "      <td>lactic acid bacteria</td>\n",
       "      <td>3.000000</td>\n",
       "      <td>0.375000</td>\n",
       "    </tr>\n",
       "    <tr>\n",
       "      <th>4</th>\n",
       "      <td>2022-08-21</td>\n",
       "      <td>23</td>\n",
       "      <td>9</td>\n",
       "      <td>2.8</td>\n",
       "      <td>6.1</td>\n",
       "      <td>0.1</td>\n",
       "      <td>lactic acid bacteria</td>\n",
       "      <td>2.178571</td>\n",
       "      <td>0.242063</td>\n",
       "    </tr>\n",
       "  </tbody>\n",
       "</table>\n",
       "</div>"
      ],
      "text/plain": [
       "  feeding_date  temperature  feeding_time  initial_height  end_height  \\\n",
       "0   2022-07-24           22             8             2.2         7.2   \n",
       "1   2022-07-31           22             7             2.4         7.8   \n",
       "2   2022-08-07           22             8             2.7         7.9   \n",
       "3   2022-08-14           22             8             2.1         6.3   \n",
       "4   2022-08-21           23             9             2.8         6.1   \n",
       "\n",
       "   bubble_size  bacteria_composition  growth_rate  growth_rate_per_hour  \n",
       "0          0.2  lactic acid bacteria     3.272727              0.409091  \n",
       "1          0.4  lactic acid bacteria     3.250000              0.464286  \n",
       "2          0.3  lactic acid bacteria     2.925926              0.365741  \n",
       "3          0.2  lactic acid bacteria     3.000000              0.375000  \n",
       "4          0.1  lactic acid bacteria     2.178571              0.242063  "
      ]
     },
     "execution_count": 80,
     "metadata": {},
     "output_type": "execute_result"
    }
   ],
   "source": [
    "feedings.head()"
   ]
  },
  {
   "cell_type": "code",
   "execution_count": null,
   "id": "c36116fa-4b00-48e7-804a-085a156407c7",
   "metadata": {},
   "outputs": [],
   "source": []
  },
  {
   "cell_type": "markdown",
   "id": "d6409d67-44bb-48b9-88b3-309d2c5c0863",
   "metadata": {},
   "source": [
    "## Utilization"
   ]
  },
  {
   "cell_type": "markdown",
   "id": "78895c21-1e5c-44cb-9c01-c97444b4b08b",
   "metadata": {},
   "source": [
    "**TODO**\n",
    "* create a suggestion table for suitable recipes\n",
    "* store dfs and use new df for concat"
   ]
  },
  {
   "cell_type": "markdown",
   "id": "ad5e8399-2912-49cc-9b44-20ce06170642",
   "metadata": {},
   "source": [
    "### Baked breads"
   ]
  },
  {
   "cell_type": "code",
   "execution_count": 25,
   "id": "78b0f2ab-2f10-4fe7-aa8c-4bf34b318026",
   "metadata": {},
   "outputs": [],
   "source": [
    "bread_name = ['Dinkelsonni', 'Italienisches Landbrot', 'Hausbrot', 'Neptune']"
   ]
  },
  {
   "cell_type": "code",
   "execution_count": 26,
   "id": "dba0c487-c589-4684-8357-fd921db1475d",
   "metadata": {},
   "outputs": [],
   "source": [
    "baking_date = ['2022-08-13', '2022-09-18', '2022-10-23', '2022-11-01']"
   ]
  },
  {
   "cell_type": "code",
   "execution_count": 27,
   "id": "9409f40c-f738-412d-b933-7edd8de6e6f6",
   "metadata": {},
   "outputs": [],
   "source": [
    "bread_rating = [4, 5, 4, 5]"
   ]
  },
  {
   "cell_type": "code",
   "execution_count": 28,
   "id": "b037570d-ca8f-474f-a4fa-b78295d98356",
   "metadata": {},
   "outputs": [],
   "source": [
    "used_starter = [10, 20, 15, 10]"
   ]
  },
  {
   "cell_type": "code",
   "execution_count": 29,
   "id": "12f90fe4-3986-4301-a3e5-68208dbc0021",
   "metadata": {},
   "outputs": [],
   "source": [
    "latest_bread = 'Paderborner Landbrot'"
   ]
  },
  {
   "cell_type": "code",
   "execution_count": 30,
   "id": "68cc5d9c-a611-4ff4-9606-8400040a7bff",
   "metadata": {},
   "outputs": [],
   "source": [
    "latest_baking_date = '2022-12-14'"
   ]
  },
  {
   "cell_type": "code",
   "execution_count": 31,
   "id": "d76910df-7b6a-4560-ae0e-f6fa5004a421",
   "metadata": {},
   "outputs": [],
   "source": [
    "latest_ranking = 3"
   ]
  },
  {
   "cell_type": "code",
   "execution_count": 32,
   "id": "1dc93e41-9645-4318-b211-fc1ed86ed9cf",
   "metadata": {},
   "outputs": [],
   "source": [
    "latest_starter_used = 30"
   ]
  },
  {
   "cell_type": "code",
   "execution_count": 33,
   "id": "e8992604-1c18-4eff-81f2-3dd22c5ef2e1",
   "metadata": {},
   "outputs": [],
   "source": [
    "bread_name.append(latest_bread)"
   ]
  },
  {
   "cell_type": "code",
   "execution_count": 34,
   "id": "d76e5153-9974-45cf-9310-6e30c4e544c4",
   "metadata": {},
   "outputs": [],
   "source": [
    "baking_date.append(latest_baking_date)"
   ]
  },
  {
   "cell_type": "code",
   "execution_count": 35,
   "id": "782e61ed-9af7-46a8-a2d3-3f3ccb6fb295",
   "metadata": {},
   "outputs": [],
   "source": [
    "bread_rating.append(latest_ranking)"
   ]
  },
  {
   "cell_type": "code",
   "execution_count": 36,
   "id": "8aafd062-e406-4cbb-93e5-b68217cefbd4",
   "metadata": {},
   "outputs": [],
   "source": [
    "used_starter.append(latest_starter_used)"
   ]
  },
  {
   "cell_type": "code",
   "execution_count": 37,
   "id": "10c5b0f8-6df6-4465-91d4-f1e00ec17157",
   "metadata": {},
   "outputs": [],
   "source": [
    "baked_bread_dict = {\n",
    "    'bread_name':bread_name,\n",
    "    'baking_date':baking_date,\n",
    "    'bread_rating':bread_rating,\n",
    "    'used_starter':used_starter\n",
    "}"
   ]
  },
  {
   "cell_type": "code",
   "execution_count": 38,
   "id": "1f560efd-f27c-4f11-a5d1-6f68545eeeaf",
   "metadata": {},
   "outputs": [],
   "source": [
    "baked_bread = pd.DataFrame(data=baked_bread_dict)"
   ]
  },
  {
   "cell_type": "code",
   "execution_count": 39,
   "id": "e02be435-baeb-4267-8235-81ca96f224de",
   "metadata": {},
   "outputs": [],
   "source": [
    "baked_bread['baking_date'] = pd.to_datetime(baked_bread['baking_date'])"
   ]
  },
  {
   "cell_type": "code",
   "execution_count": 40,
   "id": "c32182f3-dc7f-4fcb-bfd3-83fe4732296c",
   "metadata": {},
   "outputs": [
    {
     "data": {
      "text/html": [
       "<div>\n",
       "<style scoped>\n",
       "    .dataframe tbody tr th:only-of-type {\n",
       "        vertical-align: middle;\n",
       "    }\n",
       "\n",
       "    .dataframe tbody tr th {\n",
       "        vertical-align: top;\n",
       "    }\n",
       "\n",
       "    .dataframe thead th {\n",
       "        text-align: right;\n",
       "    }\n",
       "</style>\n",
       "<table border=\"1\" class=\"dataframe\">\n",
       "  <thead>\n",
       "    <tr style=\"text-align: right;\">\n",
       "      <th></th>\n",
       "      <th>bread_name</th>\n",
       "      <th>baking_date</th>\n",
       "      <th>bread_rating</th>\n",
       "      <th>used_starter</th>\n",
       "    </tr>\n",
       "  </thead>\n",
       "  <tbody>\n",
       "    <tr>\n",
       "      <th>0</th>\n",
       "      <td>Dinkelsonni</td>\n",
       "      <td>2022-08-13</td>\n",
       "      <td>4</td>\n",
       "      <td>10</td>\n",
       "    </tr>\n",
       "    <tr>\n",
       "      <th>1</th>\n",
       "      <td>Italienisches Landbrot</td>\n",
       "      <td>2022-09-18</td>\n",
       "      <td>5</td>\n",
       "      <td>20</td>\n",
       "    </tr>\n",
       "    <tr>\n",
       "      <th>2</th>\n",
       "      <td>Hausbrot</td>\n",
       "      <td>2022-10-23</td>\n",
       "      <td>4</td>\n",
       "      <td>15</td>\n",
       "    </tr>\n",
       "    <tr>\n",
       "      <th>3</th>\n",
       "      <td>Neptune</td>\n",
       "      <td>2022-11-01</td>\n",
       "      <td>5</td>\n",
       "      <td>10</td>\n",
       "    </tr>\n",
       "    <tr>\n",
       "      <th>4</th>\n",
       "      <td>Paderborner Landbrot</td>\n",
       "      <td>2022-12-14</td>\n",
       "      <td>3</td>\n",
       "      <td>30</td>\n",
       "    </tr>\n",
       "  </tbody>\n",
       "</table>\n",
       "</div>"
      ],
      "text/plain": [
       "               bread_name baking_date  bread_rating  used_starter\n",
       "0             Dinkelsonni  2022-08-13             4            10\n",
       "1  Italienisches Landbrot  2022-09-18             5            20\n",
       "2                Hausbrot  2022-10-23             4            15\n",
       "3                 Neptune  2022-11-01             5            10\n",
       "4    Paderborner Landbrot  2022-12-14             3            30"
      ]
     },
     "execution_count": 40,
     "metadata": {},
     "output_type": "execute_result"
    }
   ],
   "source": [
    "baked_bread"
   ]
  },
  {
   "cell_type": "markdown",
   "id": "4ba09aea-1d2f-4d4b-80ac-0f1d486feded",
   "metadata": {},
   "source": [
    "### Utilized sourdough starter"
   ]
  },
  {
   "cell_type": "markdown",
   "id": "aa54e8fb-a24b-4981-9bce-bbf9235ebd2a",
   "metadata": {},
   "source": [
    "#### For baking"
   ]
  },
  {
   "cell_type": "code",
   "execution_count": 41,
   "id": "ddba11d4-8662-49a1-8062-438770af68ee",
   "metadata": {},
   "outputs": [],
   "source": [
    "used_for_bread = baked_bread[['baking_date', 'used_starter']]"
   ]
  },
  {
   "cell_type": "code",
   "execution_count": 42,
   "id": "4d78d5ca-3728-4d12-acd9-eeedad3a3089",
   "metadata": {},
   "outputs": [
    {
     "name": "stderr",
     "output_type": "stream",
     "text": [
      "/var/folders/mm/p2dqwhz10d1dvvs017_jlpb80000gn/T/ipykernel_799/4108514966.py:1: SettingWithCopyWarning: \n",
      "A value is trying to be set on a copy of a slice from a DataFrame\n",
      "\n",
      "See the caveats in the documentation: https://pandas.pydata.org/pandas-docs/stable/user_guide/indexing.html#returning-a-view-versus-a-copy\n",
      "  used_for_bread.rename(columns={\n"
     ]
    }
   ],
   "source": [
    "used_for_bread.rename(columns={\n",
    "    'baking_date':'date',\n",
    "    'used_starter':'delta_starter'\n",
    "}, inplace=True)"
   ]
  },
  {
   "cell_type": "code",
   "execution_count": 43,
   "id": "8bb2aeb3-b9cd-4f9f-9d9a-74f71290fbf3",
   "metadata": {},
   "outputs": [
    {
     "name": "stderr",
     "output_type": "stream",
     "text": [
      "/var/folders/mm/p2dqwhz10d1dvvs017_jlpb80000gn/T/ipykernel_799/924016032.py:1: SettingWithCopyWarning: \n",
      "A value is trying to be set on a copy of a slice from a DataFrame.\n",
      "Try using .loc[row_indexer,col_indexer] = value instead\n",
      "\n",
      "See the caveats in the documentation: https://pandas.pydata.org/pandas-docs/stable/user_guide/indexing.html#returning-a-view-versus-a-copy\n",
      "  used_for_bread['delta_starter'] = used_for_bread['delta_starter']*(-1)\n"
     ]
    }
   ],
   "source": [
    "used_for_bread['delta_starter'] = used_for_bread['delta_starter']*(-1)"
   ]
  },
  {
   "cell_type": "code",
   "execution_count": 44,
   "id": "5f3d5a57-5f5d-417e-9068-7f76d4f9d386",
   "metadata": {},
   "outputs": [
    {
     "data": {
      "text/html": [
       "<div>\n",
       "<style scoped>\n",
       "    .dataframe tbody tr th:only-of-type {\n",
       "        vertical-align: middle;\n",
       "    }\n",
       "\n",
       "    .dataframe tbody tr th {\n",
       "        vertical-align: top;\n",
       "    }\n",
       "\n",
       "    .dataframe thead th {\n",
       "        text-align: right;\n",
       "    }\n",
       "</style>\n",
       "<table border=\"1\" class=\"dataframe\">\n",
       "  <thead>\n",
       "    <tr style=\"text-align: right;\">\n",
       "      <th></th>\n",
       "      <th>date</th>\n",
       "      <th>delta_starter</th>\n",
       "    </tr>\n",
       "  </thead>\n",
       "  <tbody>\n",
       "    <tr>\n",
       "      <th>0</th>\n",
       "      <td>2022-08-13</td>\n",
       "      <td>-10</td>\n",
       "    </tr>\n",
       "    <tr>\n",
       "      <th>1</th>\n",
       "      <td>2022-09-18</td>\n",
       "      <td>-20</td>\n",
       "    </tr>\n",
       "    <tr>\n",
       "      <th>2</th>\n",
       "      <td>2022-10-23</td>\n",
       "      <td>-15</td>\n",
       "    </tr>\n",
       "    <tr>\n",
       "      <th>3</th>\n",
       "      <td>2022-11-01</td>\n",
       "      <td>-10</td>\n",
       "    </tr>\n",
       "    <tr>\n",
       "      <th>4</th>\n",
       "      <td>2022-12-14</td>\n",
       "      <td>-30</td>\n",
       "    </tr>\n",
       "  </tbody>\n",
       "</table>\n",
       "</div>"
      ],
      "text/plain": [
       "        date  delta_starter\n",
       "0 2022-08-13            -10\n",
       "1 2022-09-18            -20\n",
       "2 2022-10-23            -15\n",
       "3 2022-11-01            -10\n",
       "4 2022-12-14            -30"
      ]
     },
     "execution_count": 44,
     "metadata": {},
     "output_type": "execute_result"
    }
   ],
   "source": [
    "used_for_bread"
   ]
  },
  {
   "cell_type": "markdown",
   "id": "d50633fc-6e75-4add-986a-c779650ef431",
   "metadata": {},
   "source": [
    "#### Leftover from feeding"
   ]
  },
  {
   "cell_type": "code",
   "execution_count": 45,
   "id": "a374299a-76e2-4d51-b82a-0cb44e87f543",
   "metadata": {},
   "outputs": [],
   "source": [
    "old_dough = feedings[['feeding_date']]"
   ]
  },
  {
   "cell_type": "code",
   "execution_count": 46,
   "id": "7b4f1a02-3594-4488-89b5-ec6d74a80725",
   "metadata": {},
   "outputs": [
    {
     "name": "stderr",
     "output_type": "stream",
     "text": [
      "/var/folders/mm/p2dqwhz10d1dvvs017_jlpb80000gn/T/ipykernel_799/1372661557.py:1: SettingWithCopyWarning: \n",
      "A value is trying to be set on a copy of a slice from a DataFrame\n",
      "\n",
      "See the caveats in the documentation: https://pandas.pydata.org/pandas-docs/stable/user_guide/indexing.html#returning-a-view-versus-a-copy\n",
      "  old_dough.rename(columns={'feeding_date':'date'}, inplace=True)\n"
     ]
    }
   ],
   "source": [
    "old_dough.rename(columns={'feeding_date':'date'}, inplace=True)"
   ]
  },
  {
   "cell_type": "code",
   "execution_count": 47,
   "id": "b70c1347-d5c9-428b-a3fa-2761d52432c5",
   "metadata": {},
   "outputs": [
    {
     "name": "stderr",
     "output_type": "stream",
     "text": [
      "/var/folders/mm/p2dqwhz10d1dvvs017_jlpb80000gn/T/ipykernel_799/680216621.py:2: SettingWithCopyWarning: \n",
      "A value is trying to be set on a copy of a slice from a DataFrame.\n",
      "Try using .loc[row_indexer,col_indexer] = value instead\n",
      "\n",
      "See the caveats in the documentation: https://pandas.pydata.org/pandas-docs/stable/user_guide/indexing.html#returning-a-view-versus-a-copy\n",
      "  old_dough['delta_starter'] = 90\n"
     ]
    }
   ],
   "source": [
    "# assuming a use of 10g for the new starter and a loss of 10g\n",
    "old_dough['delta_starter'] = 90"
   ]
  },
  {
   "cell_type": "markdown",
   "id": "82fcc10a-381a-40f7-a592-3153a456ce7a",
   "metadata": {},
   "source": [
    "#### Recycle utilizations"
   ]
  },
  {
   "cell_type": "code",
   "execution_count": 48,
   "id": "01a4ac8a-8f4d-4530-a2f2-a0dc9cca2ca8",
   "metadata": {},
   "outputs": [],
   "source": [
    "recycling_date = ['2022-09-13', '2022-10-18', '2022-11-23', '2022-12-01']"
   ]
  },
  {
   "cell_type": "code",
   "execution_count": 49,
   "id": "b535ccc8-1d2f-4ae4-bce4-11eafe4cd8e5",
   "metadata": {},
   "outputs": [],
   "source": [
    "recyling = [True, True, True, True]"
   ]
  },
  {
   "cell_type": "code",
   "execution_count": 50,
   "id": "b92047f3-50d8-428a-ab3e-b765a4ffcdbc",
   "metadata": {},
   "outputs": [],
   "source": [
    "recyled_dough_dict = {\n",
    "    'date':recycling_date,\n",
    "    'recycling_happened':recyling\n",
    "}"
   ]
  },
  {
   "cell_type": "code",
   "execution_count": 51,
   "id": "ee2d545a-0cb1-490b-89b2-79b64e97aa0b",
   "metadata": {},
   "outputs": [],
   "source": [
    "recyled_dough = pd.DataFrame(data=recyled_dough_dict)"
   ]
  },
  {
   "cell_type": "code",
   "execution_count": 52,
   "id": "357a0e56-8e1d-4af6-82aa-9aaa98969cf8",
   "metadata": {},
   "outputs": [
    {
     "data": {
      "text/html": [
       "<div>\n",
       "<style scoped>\n",
       "    .dataframe tbody tr th:only-of-type {\n",
       "        vertical-align: middle;\n",
       "    }\n",
       "\n",
       "    .dataframe tbody tr th {\n",
       "        vertical-align: top;\n",
       "    }\n",
       "\n",
       "    .dataframe thead th {\n",
       "        text-align: right;\n",
       "    }\n",
       "</style>\n",
       "<table border=\"1\" class=\"dataframe\">\n",
       "  <thead>\n",
       "    <tr style=\"text-align: right;\">\n",
       "      <th></th>\n",
       "      <th>date</th>\n",
       "      <th>recycling_happened</th>\n",
       "    </tr>\n",
       "  </thead>\n",
       "  <tbody>\n",
       "    <tr>\n",
       "      <th>0</th>\n",
       "      <td>2022-09-13</td>\n",
       "      <td>True</td>\n",
       "    </tr>\n",
       "    <tr>\n",
       "      <th>1</th>\n",
       "      <td>2022-10-18</td>\n",
       "      <td>True</td>\n",
       "    </tr>\n",
       "    <tr>\n",
       "      <th>2</th>\n",
       "      <td>2022-11-23</td>\n",
       "      <td>True</td>\n",
       "    </tr>\n",
       "    <tr>\n",
       "      <th>3</th>\n",
       "      <td>2022-12-01</td>\n",
       "      <td>True</td>\n",
       "    </tr>\n",
       "  </tbody>\n",
       "</table>\n",
       "</div>"
      ],
      "text/plain": [
       "         date  recycling_happened\n",
       "0  2022-09-13                True\n",
       "1  2022-10-18                True\n",
       "2  2022-11-23                True\n",
       "3  2022-12-01                True"
      ]
     },
     "execution_count": 52,
     "metadata": {},
     "output_type": "execute_result"
    }
   ],
   "source": [
    "recyled_dough"
   ]
  },
  {
   "cell_type": "code",
   "execution_count": null,
   "id": "e6af87ae-0852-4e8b-9911-7b1b08c17491",
   "metadata": {},
   "outputs": [],
   "source": []
  },
  {
   "cell_type": "code",
   "execution_count": null,
   "id": "d4a65bfd-d9cc-4284-a57b-425aed1cb81a",
   "metadata": {},
   "outputs": [],
   "source": []
  },
  {
   "cell_type": "markdown",
   "id": "72247266-7e82-4440-9684-90a49f600df9",
   "metadata": {},
   "source": [
    "#### Total"
   ]
  },
  {
   "cell_type": "code",
   "execution_count": 53,
   "id": "b1ae2c4c-4a9f-46ed-829a-f70c9686a68e",
   "metadata": {},
   "outputs": [],
   "source": [
    "left_over = pd.concat([used_for_bread, old_dough, recyled_dough], ignore_index=True)"
   ]
  },
  {
   "cell_type": "code",
   "execution_count": 54,
   "id": "66aec1f3-4f44-4791-86d4-1ce258658235",
   "metadata": {},
   "outputs": [],
   "source": [
    "left_over['date'] = pd.to_datetime(left_over['date'])"
   ]
  },
  {
   "cell_type": "code",
   "execution_count": 55,
   "id": "a5d5b700-52ae-4938-a860-94e9753e1b24",
   "metadata": {},
   "outputs": [],
   "source": [
    "left_over.sort_values(by='date', inplace=True)"
   ]
  },
  {
   "cell_type": "code",
   "execution_count": 56,
   "id": "d7e4017e-b02d-45e1-aac6-dd84fd8ec51d",
   "metadata": {},
   "outputs": [],
   "source": [
    "left_over['recycling_happened'] = left_over['recycling_happened'].fillna(False)"
   ]
  },
  {
   "cell_type": "code",
   "execution_count": 57,
   "id": "735bc08f-5e4d-4bae-84e5-c8d23e486e30",
   "metadata": {},
   "outputs": [],
   "source": [
    "left_over.reset_index(inplace=True, drop=True)"
   ]
  },
  {
   "cell_type": "code",
   "execution_count": 59,
   "id": "63bc5f85-3dc7-427c-81c5-20a61ce7d33f",
   "metadata": {},
   "outputs": [],
   "source": [
    "total_dough = []\n",
    "cumsum = 0\n",
    "for index, row in left_over.iterrows():\n",
    "    if row['recycling_happened'] == False:\n",
    "        cumsum = cumsum + row['delta_starter'] \n",
    "        total_dough.append(cumsum)\n",
    "    else:\n",
    "        cumsum = 0\n",
    "        total_dough.append(cumsum)"
   ]
  },
  {
   "cell_type": "code",
   "execution_count": 61,
   "id": "e7ce6791-278f-4e89-b6fb-90ac68702b7e",
   "metadata": {},
   "outputs": [],
   "source": [
    "left_over['total_dough'] = total_dough"
   ]
  },
  {
   "cell_type": "code",
   "execution_count": 62,
   "id": "e0e8fd3e-8fd8-4769-98c7-713f5161e1d5",
   "metadata": {},
   "outputs": [
    {
     "data": {
      "text/html": [
       "<div>\n",
       "<style scoped>\n",
       "    .dataframe tbody tr th:only-of-type {\n",
       "        vertical-align: middle;\n",
       "    }\n",
       "\n",
       "    .dataframe tbody tr th {\n",
       "        vertical-align: top;\n",
       "    }\n",
       "\n",
       "    .dataframe thead th {\n",
       "        text-align: right;\n",
       "    }\n",
       "</style>\n",
       "<table border=\"1\" class=\"dataframe\">\n",
       "  <thead>\n",
       "    <tr style=\"text-align: right;\">\n",
       "      <th></th>\n",
       "      <th>date</th>\n",
       "      <th>delta_starter</th>\n",
       "      <th>recycling_happened</th>\n",
       "      <th>total_dough</th>\n",
       "    </tr>\n",
       "  </thead>\n",
       "  <tbody>\n",
       "    <tr>\n",
       "      <th>0</th>\n",
       "      <td>2022-07-24</td>\n",
       "      <td>90.0</td>\n",
       "      <td>False</td>\n",
       "      <td>90.0</td>\n",
       "    </tr>\n",
       "    <tr>\n",
       "      <th>1</th>\n",
       "      <td>2022-07-31</td>\n",
       "      <td>90.0</td>\n",
       "      <td>False</td>\n",
       "      <td>180.0</td>\n",
       "    </tr>\n",
       "    <tr>\n",
       "      <th>2</th>\n",
       "      <td>2022-08-07</td>\n",
       "      <td>90.0</td>\n",
       "      <td>False</td>\n",
       "      <td>270.0</td>\n",
       "    </tr>\n",
       "    <tr>\n",
       "      <th>3</th>\n",
       "      <td>2022-08-13</td>\n",
       "      <td>-10.0</td>\n",
       "      <td>False</td>\n",
       "      <td>260.0</td>\n",
       "    </tr>\n",
       "    <tr>\n",
       "      <th>4</th>\n",
       "      <td>2022-08-14</td>\n",
       "      <td>90.0</td>\n",
       "      <td>False</td>\n",
       "      <td>350.0</td>\n",
       "    </tr>\n",
       "  </tbody>\n",
       "</table>\n",
       "</div>"
      ],
      "text/plain": [
       "        date  delta_starter  recycling_happened  total_dough\n",
       "0 2022-07-24           90.0               False         90.0\n",
       "1 2022-07-31           90.0               False        180.0\n",
       "2 2022-08-07           90.0               False        270.0\n",
       "3 2022-08-13          -10.0               False        260.0\n",
       "4 2022-08-14           90.0               False        350.0"
      ]
     },
     "execution_count": 62,
     "metadata": {},
     "output_type": "execute_result"
    }
   ],
   "source": [
    "left_over.head()"
   ]
  },
  {
   "cell_type": "code",
   "execution_count": null,
   "id": "753f5d25-c859-473f-b605-6b5346af9902",
   "metadata": {},
   "outputs": [],
   "source": []
  },
  {
   "cell_type": "markdown",
   "id": "104f7a0d-56d2-40f9-83a8-c16234f8cd97",
   "metadata": {},
   "source": [
    "### Bread experiments TODO"
   ]
  },
  {
   "cell_type": "markdown",
   "id": "c9a5a149-a469-4df8-b53a-4953544d0db3",
   "metadata": {},
   "source": [
    "**TODO**\n",
    "* Vorgehen + Modifikation + Resultat + Experimentbasis (Brot) "
   ]
  },
  {
   "cell_type": "code",
   "execution_count": null,
   "id": "37005a02-1ef1-4cad-9d6d-969d5338f48a",
   "metadata": {},
   "outputs": [],
   "source": []
  },
  {
   "cell_type": "markdown",
   "id": "c42df0ea-b612-4449-acb5-ffe2dfe95840",
   "metadata": {},
   "source": [
    "# KPIs"
   ]
  },
  {
   "cell_type": "markdown",
   "id": "e6b701e8-e3e5-4a34-afd8-c33d1021c082",
   "metadata": {},
   "source": [
    "## Bread"
   ]
  },
  {
   "cell_type": "markdown",
   "id": "b16d1158-4af9-467f-b3a4-b6fbb7087bd8",
   "metadata": {},
   "source": [
    "**Top 3 breads**"
   ]
  },
  {
   "cell_type": "code",
   "execution_count": 71,
   "id": "f331b459-bf3f-4617-bf42-24903d2d9202",
   "metadata": {},
   "outputs": [
    {
     "data": {
      "text/plain": [
       "1    Italienisches Landbrot\n",
       "3                   Neptune\n",
       "0               Dinkelsonni\n",
       "Name: bread_name, dtype: object"
      ]
     },
     "execution_count": 71,
     "metadata": {},
     "output_type": "execute_result"
    }
   ],
   "source": [
    "baked_bread.sort_values(by='bread_rating', ascending=False)['bread_name'].head(3)"
   ]
  },
  {
   "cell_type": "code",
   "execution_count": null,
   "id": "80b6cd3c-74ce-4f52-b936-f41c4519c4b1",
   "metadata": {},
   "outputs": [],
   "source": []
  },
  {
   "cell_type": "markdown",
   "id": "38faa4c3-f379-420b-8e51-916cc1c54b99",
   "metadata": {},
   "source": [
    "**Baked breads**"
   ]
  },
  {
   "cell_type": "code",
   "execution_count": 100,
   "id": "e0db4a36-d1ff-4515-a3bd-3a0694c5e789",
   "metadata": {},
   "outputs": [
    {
     "data": {
      "text/plain": [
       "5"
      ]
     },
     "execution_count": 100,
     "metadata": {},
     "output_type": "execute_result"
    }
   ],
   "source": [
    "len(baked_bread)"
   ]
  },
  {
   "cell_type": "code",
   "execution_count": null,
   "id": "6ae24cee-61ea-4375-b717-c3fa0d92bf6d",
   "metadata": {},
   "outputs": [],
   "source": []
  },
  {
   "cell_type": "markdown",
   "id": "aab4298a-c22b-4d23-810a-16adaf70ec19",
   "metadata": {},
   "source": [
    "**Relevant factors**"
   ]
  },
  {
   "cell_type": "code",
   "execution_count": null,
   "id": "cbc03b8a-d09b-426f-a933-7c3793f3d5b7",
   "metadata": {},
   "outputs": [],
   "source": []
  },
  {
   "cell_type": "markdown",
   "id": "478890c7-feef-42cc-836e-38ad0d4e8f4d",
   "metadata": {},
   "source": [
    "## Sourdough"
   ]
  },
  {
   "cell_type": "markdown",
   "id": "62ee721f-06b5-4076-9386-2fc8ee84143e",
   "metadata": {},
   "source": [
    "**Current bacteria dominance**"
   ]
  },
  {
   "cell_type": "code",
   "execution_count": 84,
   "id": "b093287f-d3a6-48d3-b7da-77e3dd29de38",
   "metadata": {},
   "outputs": [
    {
     "data": {
      "text/plain": [
       "21    none\n",
       "Name: bacteria_composition, dtype: object"
      ]
     },
     "execution_count": 84,
     "metadata": {},
     "output_type": "execute_result"
    }
   ],
   "source": [
    "feedings['bacteria_composition'].tail(1)"
   ]
  },
  {
   "cell_type": "code",
   "execution_count": null,
   "id": "fa77034b-8de4-4417-b12b-c3cc56035014",
   "metadata": {},
   "outputs": [],
   "source": []
  },
  {
   "cell_type": "markdown",
   "id": "04564921-1933-44a1-9d3e-bd0c56f1b822",
   "metadata": {},
   "source": [
    "## Leftovers"
   ]
  },
  {
   "cell_type": "markdown",
   "id": "364d4b9d-b2be-4dae-825c-bc44c66a3d40",
   "metadata": {},
   "source": [
    "**TODO**\n",
    "* turn into function"
   ]
  },
  {
   "cell_type": "code",
   "execution_count": 119,
   "id": "d6b256e9-c278-417a-bf60-d5177d6ddb0f",
   "metadata": {},
   "outputs": [
    {
     "name": "stdout",
     "output_type": "stream",
     "text": [
      "You have 90.0g of starter leftover.\n"
     ]
    }
   ],
   "source": [
    "if left_over.iloc[-1, 1] > 200:\n",
    "    print('Time to get creative! You have ' + str(left_over.iloc[-1, 1]) + 'g of starter leftover.')\n",
    "else:\n",
    "    print('You have ' + str(left_over.iloc[-1, 1]) + 'g of starter leftover.')"
   ]
  },
  {
   "cell_type": "code",
   "execution_count": null,
   "id": "29adaa93-f962-4df3-90dd-385df5e031ba",
   "metadata": {},
   "outputs": [],
   "source": []
  },
  {
   "cell_type": "code",
   "execution_count": null,
   "id": "b0104e56-0389-4c62-ac54-b36e50a0e22d",
   "metadata": {},
   "outputs": [],
   "source": []
  },
  {
   "cell_type": "markdown",
   "id": "d03552b4-7f98-41f9-b374-7c586a425f3c",
   "metadata": {},
   "source": [
    "# Plots"
   ]
  },
  {
   "cell_type": "markdown",
   "id": "c26aa736-c925-4922-bc95-b821099d93cf",
   "metadata": {},
   "source": [
    "## Bread"
   ]
  },
  {
   "cell_type": "code",
   "execution_count": 86,
   "id": "60ee3a10-ea08-4c6b-a918-e74880d827f0",
   "metadata": {},
   "outputs": [
    {
     "data": {
      "image/png": "[encoded data removed]",
      "text/plain": [
       "<Figure size 720x360 with 1 Axes>"
      ]
     },
     "metadata": {
      "needs_background": "light"
     },
     "output_type": "display_data"
    }
   ],
   "source": [
    "sns.displot(\n",
    "    data=baked_bread.groupby(pd.Grouper(key=\"baking_date\", freq=\"M\"))[\n",
    "        \"bread_rating\"\n",
    "    ].mean(),\n",
    "    x=\"baking_date\",\n",
    "    height=5,\n",
    "    aspect=2,\n",
    ").set(title='Baked breads per month');"
   ]
  },
  {
   "cell_type": "code",
   "execution_count": 93,
   "id": "9d50d3f5-d784-4683-b96f-9d54c849cc4d",
   "metadata": {},
   "outputs": [
    {
     "data": {
      "text/plain": [
       "[Text(0.5, 1.0, 'Bread rating')]"
      ]
     },
     "execution_count": 93,
     "metadata": {},
     "output_type": "execute_result"
    },
    {
     "data": {
      "image/png": "[encoded data removed]",
      "text/plain": [
       "<Figure size 1080x360 with 1 Axes>"
      ]
     },
     "metadata": {},
     "output_type": "display_data"
    }
   ],
   "source": [
    "sns.set(rc={'figure.figsize':(15,5)})\n",
    "sns.lineplot(data=baked_bread, x='baking_date', y='bread_rating'\n",
    ").set(title='Bread rating')"
   ]
  },
  {
   "cell_type": "markdown",
   "id": "99496c96-435b-4401-ace1-2932a708379e",
   "metadata": {},
   "source": [
    "## Feeding"
   ]
  },
  {
   "cell_type": "code",
   "execution_count": 143,
   "id": "decd7c4f-c789-4db3-ac1e-9bcb450e3acb",
   "metadata": {},
   "outputs": [
    {
     "data": {
      "image/png": "[encoded data removed]",
      "text/plain": [
       "<Figure size 720x360 with 1 Axes>"
      ]
     },
     "metadata": {},
     "output_type": "display_data"
    }
   ],
   "source": [
    "sns.relplot(data=feedings, x=\"temperature\", y=\"growth_rate_per_hour\", kind=\"line\", height=5, aspect=2).set(\n",
    "    title=\"Growth dependence from temperature\"\n",
    ");"
   ]
  },
  {
   "cell_type": "code",
   "execution_count": 144,
   "id": "c34acd20-c40a-4004-ae19-f507114dc67b",
   "metadata": {},
   "outputs": [
    {
     "data": {
      "image/png": "[encoded data removed]",
      "text/plain": [
       "<Figure size 720x360 with 1 Axes>"
      ]
     },
     "metadata": {},
     "output_type": "display_data"
    }
   ],
   "source": [
    "sns.lmplot(data=feedings, x='temperature', y='growth_rate_per_hour', height=5, aspect=2).set(\n",
    "    title=\"Growth dependence from temperature\"\n",
    ");"
   ]
  },
  {
   "cell_type": "code",
   "execution_count": 146,
   "id": "e26474f8-d467-4a36-9c4e-e38e8b7c1647",
   "metadata": {},
   "outputs": [
    {
     "data": {
      "image/png": "[encoded data removed]",
      "text/plain": [
       "<Figure size 720x360 with 1 Axes>"
      ]
     },
     "metadata": {},
     "output_type": "display_data"
    }
   ],
   "source": [
    "sns.relplot(data=feedings, x='temperature', y='bubble_size', kind='line',  height=5, aspect=2).set(\n",
    "    title=\"Bubble size dependence from temperature\"\n",
    ");"
   ]
  },
  {
   "cell_type": "code",
   "execution_count": 148,
   "id": "3880c091-db5e-4127-b308-06807a57c539",
   "metadata": {},
   "outputs": [
    {
     "data": {
      "image/png": "[encoded data removed]",
      "text/plain": [
       "<Figure size 720x360 with 1 Axes>"
      ]
     },
     "metadata": {},
     "output_type": "display_data"
    }
   ],
   "source": [
    "sns.lmplot(data=feedings, x='temperature', y='bubble_size', height=5, aspect=2).set(\n",
    "    title=\"Bubble size dependence from temperature\"\n",
    ");"
   ]
  },
  {
   "cell_type": "code",
   "execution_count": 136,
   "id": "741d44ae-6f95-4574-b3ab-f85b6d1d2d63",
   "metadata": {},
   "outputs": [
    {
     "data": {
      "image/png": "[encoded data removed]",
      "text/plain": [
       "<Figure size 360x360 with 1 Axes>"
      ]
     },
     "metadata": {},
     "output_type": "display_data"
    }
   ],
   "source": [
    "sns.catplot(data=feedings, x='bacteria_composition', y='growth_rate', kind='boxen');"
   ]
  },
  {
   "cell_type": "code",
   "execution_count": null,
   "id": "949385af-6eb9-4dc2-b1cb-6fc7f98ae938",
   "metadata": {},
   "outputs": [],
   "source": []
  },
  {
   "cell_type": "code",
   "execution_count": null,
   "id": "56d09d6d-ef8c-4bef-81b4-7945a6324877",
   "metadata": {},
   "outputs": [],
   "source": []
  },
  {
   "cell_type": "code",
   "execution_count": null,
   "id": "ac346c81-32ec-444a-b858-061a6051c44a",
   "metadata": {},
   "outputs": [],
   "source": []
  }
 ],
 "metadata": {
  "kernelspec": {
   "display_name": "Python 3 (ipykernel)",
   "language": "python",
   "name": "python3"
  },
  "language_info": {
   "codemirror_mode": {
    "name": "ipython",
    "version": 3
   },
   "file_extension": ".py",
   "mimetype": "text/x-python",
   "name": "python",
   "nbconvert_exporter": "python",
   "pygments_lexer": "ipython3",
   "version": "3.9.12"
  }
 },
 "nbformat": 4,
 "nbformat_minor": 5
}
