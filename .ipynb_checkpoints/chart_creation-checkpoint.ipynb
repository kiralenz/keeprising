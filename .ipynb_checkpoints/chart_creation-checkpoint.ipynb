{
 "cells": [
  {
   "cell_type": "code",
   "execution_count": 3,
   "id": "40e8bfd9-3561-48ee-bdb7-b4bab1f28c08",
   "metadata": {},
   "outputs": [],
   "source": [
    "import pandas as pd"
   ]
  },
  {
   "cell_type": "code",
   "execution_count": 6,
   "id": "1f9e6715-5753-42cd-bb6e-434376f402e1",
   "metadata": {},
   "outputs": [],
   "source": [
    "TODAY = pd.Timestamp.today().strftime('%Y-%m-%d')"
   ]
  },
  {
   "cell_type": "markdown",
   "id": "114b5222-36e7-483f-b439-86a714eaed0c",
   "metadata": {},
   "source": [
    "## Feeding dates"
   ]
  },
  {
   "cell_type": "code",
   "execution_count": 11,
   "id": "36869f5e-24a6-4f6a-89fc-84c9b8b869ba",
   "metadata": {},
   "outputs": [],
   "source": [
    "# creating a more or less true history\n",
    "past_feeding_dates = pd.date_range(start='2022-07-24', end='2022-12-11', freq='7D')"
   ]
  },
  {
   "cell_type": "code",
   "execution_count": 14,
   "id": "8f9a5157-6dd9-4fb3-9616-22ee7cb8defc",
   "metadata": {},
   "outputs": [],
   "source": [
    "feeding_dates_list = []"
   ]
  },
  {
   "cell_type": "code",
   "execution_count": 15,
   "id": "b7ae91f4-7875-4c18-885d-c69796866ae2",
   "metadata": {},
   "outputs": [],
   "source": [
    "for i in past_feeding_dates:\n",
    "  feeding_dates_list.append(i.strftime('%Y-%m-%d'))"
   ]
  },
  {
   "cell_type": "code",
   "execution_count": 21,
   "id": "58719e47-cf40-4ac3-b9df-9c52057dfa49",
   "metadata": {},
   "outputs": [],
   "source": [
    "feeding_dates_list.append(TODAY)"
   ]
  },
  {
   "cell_type": "code",
   "execution_count": 22,
   "id": "4a2e54c9-0f9a-4b3d-96d7-457f872a3216",
   "metadata": {},
   "outputs": [],
   "source": [
    "feedings = pd.DataFrame(feeding_dates_list, columns = ['feeding_date'])"
   ]
  },
  {
   "cell_type": "code",
   "execution_count": 23,
   "id": "a0e526bc-5a04-4d3b-ade0-5a3b64ec2d36",
   "metadata": {},
   "outputs": [
    {
     "data": {
      "text/html": [
       "<div>\n",
       "<style scoped>\n",
       "    .dataframe tbody tr th:only-of-type {\n",
       "        vertical-align: middle;\n",
       "    }\n",
       "\n",
       "    .dataframe tbody tr th {\n",
       "        vertical-align: top;\n",
       "    }\n",
       "\n",
       "    .dataframe thead th {\n",
       "        text-align: right;\n",
       "    }\n",
       "</style>\n",
       "<table border=\"1\" class=\"dataframe\">\n",
       "  <thead>\n",
       "    <tr style=\"text-align: right;\">\n",
       "      <th></th>\n",
       "      <th>feeding_date</th>\n",
       "    </tr>\n",
       "  </thead>\n",
       "  <tbody>\n",
       "    <tr>\n",
       "      <th>0</th>\n",
       "      <td>2022-07-24</td>\n",
       "    </tr>\n",
       "    <tr>\n",
       "      <th>1</th>\n",
       "      <td>2022-07-31</td>\n",
       "    </tr>\n",
       "    <tr>\n",
       "      <th>2</th>\n",
       "      <td>2022-08-07</td>\n",
       "    </tr>\n",
       "    <tr>\n",
       "      <th>3</th>\n",
       "      <td>2022-08-14</td>\n",
       "    </tr>\n",
       "    <tr>\n",
       "      <th>4</th>\n",
       "      <td>2022-08-21</td>\n",
       "    </tr>\n",
       "    <tr>\n",
       "      <th>5</th>\n",
       "      <td>2022-08-28</td>\n",
       "    </tr>\n",
       "    <tr>\n",
       "      <th>6</th>\n",
       "      <td>2022-09-04</td>\n",
       "    </tr>\n",
       "    <tr>\n",
       "      <th>7</th>\n",
       "      <td>2022-09-11</td>\n",
       "    </tr>\n",
       "    <tr>\n",
       "      <th>8</th>\n",
       "      <td>2022-09-18</td>\n",
       "    </tr>\n",
       "    <tr>\n",
       "      <th>9</th>\n",
       "      <td>2022-09-25</td>\n",
       "    </tr>\n",
       "    <tr>\n",
       "      <th>10</th>\n",
       "      <td>2022-10-02</td>\n",
       "    </tr>\n",
       "    <tr>\n",
       "      <th>11</th>\n",
       "      <td>2022-10-09</td>\n",
       "    </tr>\n",
       "    <tr>\n",
       "      <th>12</th>\n",
       "      <td>2022-10-16</td>\n",
       "    </tr>\n",
       "    <tr>\n",
       "      <th>13</th>\n",
       "      <td>2022-10-23</td>\n",
       "    </tr>\n",
       "    <tr>\n",
       "      <th>14</th>\n",
       "      <td>2022-10-30</td>\n",
       "    </tr>\n",
       "    <tr>\n",
       "      <th>15</th>\n",
       "      <td>2022-11-06</td>\n",
       "    </tr>\n",
       "    <tr>\n",
       "      <th>16</th>\n",
       "      <td>2022-11-13</td>\n",
       "    </tr>\n",
       "    <tr>\n",
       "      <th>17</th>\n",
       "      <td>2022-11-20</td>\n",
       "    </tr>\n",
       "    <tr>\n",
       "      <th>18</th>\n",
       "      <td>2022-11-27</td>\n",
       "    </tr>\n",
       "    <tr>\n",
       "      <th>19</th>\n",
       "      <td>2022-12-04</td>\n",
       "    </tr>\n",
       "    <tr>\n",
       "      <th>20</th>\n",
       "      <td>2022-12-11</td>\n",
       "    </tr>\n",
       "    <tr>\n",
       "      <th>21</th>\n",
       "      <td>2022-12-17</td>\n",
       "    </tr>\n",
       "  </tbody>\n",
       "</table>\n",
       "</div>"
      ],
      "text/plain": [
       "   feeding_date\n",
       "0    2022-07-24\n",
       "1    2022-07-31\n",
       "2    2022-08-07\n",
       "3    2022-08-14\n",
       "4    2022-08-21\n",
       "5    2022-08-28\n",
       "6    2022-09-04\n",
       "7    2022-09-11\n",
       "8    2022-09-18\n",
       "9    2022-09-25\n",
       "10   2022-10-02\n",
       "11   2022-10-09\n",
       "12   2022-10-16\n",
       "13   2022-10-23\n",
       "14   2022-10-30\n",
       "15   2022-11-06\n",
       "16   2022-11-13\n",
       "17   2022-11-20\n",
       "18   2022-11-27\n",
       "19   2022-12-04\n",
       "20   2022-12-11\n",
       "21   2022-12-17"
      ]
     },
     "execution_count": 23,
     "metadata": {},
     "output_type": "execute_result"
    }
   ],
   "source": [
    "feedings"
   ]
  },
  {
   "cell_type": "markdown",
   "id": "f885713f-c439-48f7-8949-fff78cae822c",
   "metadata": {},
   "source": [
    "## Temperature"
   ]
  },
  {
   "cell_type": "markdown",
   "id": "093f5a91-4573-4eca-98da-e0f952875abb",
   "metadata": {},
   "source": [
    "**TODO**\n",
    "* look up bacteria composition & provide as a lookup dict"
   ]
  },
  {
   "cell_type": "code",
   "execution_count": null,
   "id": "00174f38-af78-48d6-8112-f969d3bd5f51",
   "metadata": {},
   "outputs": [],
   "source": []
  },
  {
   "cell_type": "markdown",
   "id": "4ba09aea-1d2f-4d4b-80ac-0f1d486feded",
   "metadata": {},
   "source": [
    "## Utilized sourdough starter"
   ]
  },
  {
   "cell_type": "code",
   "execution_count": null,
   "id": "f0367a3f-9fa1-48a7-bbae-9be47d82d196",
   "metadata": {},
   "outputs": [],
   "source": []
  },
  {
   "cell_type": "markdown",
   "id": "c42df0ea-b612-4449-acb5-ffe2dfe95840",
   "metadata": {},
   "source": [
    "## KPIs"
   ]
  },
  {
   "cell_type": "code",
   "execution_count": null,
   "id": "f7daf00b-2155-4f11-a504-8177622e6a50",
   "metadata": {},
   "outputs": [],
   "source": []
  },
  {
   "cell_type": "markdown",
   "id": "ad5e8399-2912-49cc-9b44-20ce06170642",
   "metadata": {},
   "source": [
    "## Baked breads"
   ]
  },
  {
   "cell_type": "code",
   "execution_count": 27,
   "id": "78b0f2ab-2f10-4fe7-aa8c-4bf34b318026",
   "metadata": {},
   "outputs": [],
   "source": [
    "bread_name = ['Dinkelsonni', 'Italienisches Landbrot', 'Hausbrot', 'Neptune']"
   ]
  },
  {
   "cell_type": "code",
   "execution_count": 30,
   "id": "dba0c487-c589-4684-8357-fd921db1475d",
   "metadata": {},
   "outputs": [],
   "source": [
    "baking_date = ['2022-08-13', '2022-09-18', '2022-10-23']"
   ]
  },
  {
   "cell_type": "code",
   "execution_count": null,
   "id": "9409f40c-f738-412d-b933-7edd8de6e6f6",
   "metadata": {},
   "outputs": [],
   "source": [
    "bread_rating = []"
   ]
  },
  {
   "cell_type": "code",
   "execution_count": 26,
   "id": "12f90fe4-3986-4301-a3e5-68208dbc0021",
   "metadata": {},
   "outputs": [],
   "source": [
    "latest_bread = 'Paderborner Landbrot'"
   ]
  },
  {
   "cell_type": "code",
   "execution_count": 31,
   "id": "68cc5d9c-a611-4ff4-9606-8400040a7bff",
   "metadata": {},
   "outputs": [],
   "source": [
    "latest_baking_date = '2022-12-14'"
   ]
  },
  {
   "cell_type": "code",
   "execution_count": 28,
   "id": "e8992604-1c18-4eff-81f2-3dd22c5ef2e1",
   "metadata": {},
   "outputs": [],
   "source": [
    "bread_name.append(latest_bread)"
   ]
  },
  {
   "cell_type": "code",
   "execution_count": 28,
   "id": "d76e5153-9974-45cf-9310-6e30c4e544c4",
   "metadata": {},
   "outputs": [],
   "source": [
    "baking_date.append(latest_baking_date)"
   ]
  },
  {
   "cell_type": "code",
   "execution_count": null,
   "id": "10c5b0f8-6df6-4465-91d4-f1e00ec17157",
   "metadata": {},
   "outputs": [],
   "source": []
  }
 ],
 "metadata": {
  "kernelspec": {
   "display_name": "Python 3 (ipykernel)",
   "language": "python",
   "name": "python3"
  },
  "language_info": {
   "codemirror_mode": {
    "name": "ipython",
    "version": 3
   },
   "file_extension": ".py",
   "mimetype": "text/x-python",
   "name": "python",
   "nbconvert_exporter": "python",
   "pygments_lexer": "ipython3",
   "version": "3.9.12"
  }
 },
 "nbformat": 4,
 "nbformat_minor": 5
}
